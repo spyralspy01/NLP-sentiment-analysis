{
  "nbformat": 4,
  "nbformat_minor": 0,
  "metadata": {
    "colab": {
      "provenance": []
    },
    "kernelspec": {
      "name": "python3",
      "display_name": "Python 3"
    },
    "language_info": {
      "name": "python"
    },
    "gpuClass": "standard"
  },
  "cells": [
    {
      "cell_type": "code",
      "source": [
        "!pip install emoji"
      ],
      "metadata": {
        "colab": {
          "base_uri": "https://localhost:8080/"
        },
        "id": "Ivzpcc2FUU27",
        "outputId": "f2522a9d-bb5b-461e-efcb-2d1cd4e79694"
      },
      "execution_count": null,
      "outputs": [
        {
          "output_type": "stream",
          "name": "stdout",
          "text": [
            "Looking in indexes: https://pypi.org/simple, https://us-python.pkg.dev/colab-wheels/public/simple/\n",
            "Requirement already satisfied: emoji in /usr/local/lib/python3.7/dist-packages (2.0.0)\n"
          ]
        }
      ]
    },
    {
      "cell_type": "code",
      "execution_count": null,
      "metadata": {
        "id": "Agx8g0EIZ2cL"
      },
      "outputs": [],
      "source": [
        "import pandas as pd\n",
        "import numpy as np\n",
        "from sklearn.feature_extraction.text import CountVectorizer,TfidfVectorizer\n",
        "from sklearn.model_selection import train_test_split\n",
        "from sklearn.naive_bayes import BernoulliNB,MultinomialNB\n",
        "from sklearn.linear_model import LogisticRegression\n",
        "from sklearn import metrics\n",
        "from sklearn.metrics import roc_auc_score,accuracy_score\n",
        "import emoji"
      ]
    },
    {
      "cell_type": "code",
      "source": [
        "# importing data\n",
        "df=pd.read_csv('train-v2.tsv',sep='\\t',header=None)\n",
        "df.head()"
      ],
      "metadata": {
        "colab": {
          "base_uri": "https://localhost:8080/",
          "height": 206
        },
        "id": "SENDKuWmmA8j",
        "outputId": "f59fd531-3154-45ca-be66-d32d323d282e"
      },
      "execution_count": null,
      "outputs": [
        {
          "output_type": "execute_result",
          "data": {
            "text/plain": [
              "   0                                                  1\n",
              "0  0  @USER @USER a sicrhau bod mwy o arian poced 'd...\n",
              "1  1  Parti Dolig da gyda tim swyddfa canolog @USER ...\n",
              "2  0               @USER yeaah ma fe yn wir. ( oh well.\n",
              "3  1               @USER hahaha idk. 3am oedd y bws ti?\n",
              "4  0                      @USER dwim yn gal llun ohoni?"
            ],
            "text/html": [
              "\n",
              "  <div id=\"df-67484291-26cc-4716-ae8f-e15e1a3f58cc\">\n",
              "    <div class=\"colab-df-container\">\n",
              "      <div>\n",
              "<style scoped>\n",
              "    .dataframe tbody tr th:only-of-type {\n",
              "        vertical-align: middle;\n",
              "    }\n",
              "\n",
              "    .dataframe tbody tr th {\n",
              "        vertical-align: top;\n",
              "    }\n",
              "\n",
              "    .dataframe thead th {\n",
              "        text-align: right;\n",
              "    }\n",
              "</style>\n",
              "<table border=\"1\" class=\"dataframe\">\n",
              "  <thead>\n",
              "    <tr style=\"text-align: right;\">\n",
              "      <th></th>\n",
              "      <th>0</th>\n",
              "      <th>1</th>\n",
              "    </tr>\n",
              "  </thead>\n",
              "  <tbody>\n",
              "    <tr>\n",
              "      <th>0</th>\n",
              "      <td>0</td>\n",
              "      <td>@USER @USER a sicrhau bod mwy o arian poced 'd...</td>\n",
              "    </tr>\n",
              "    <tr>\n",
              "      <th>1</th>\n",
              "      <td>1</td>\n",
              "      <td>Parti Dolig da gyda tim swyddfa canolog @USER ...</td>\n",
              "    </tr>\n",
              "    <tr>\n",
              "      <th>2</th>\n",
              "      <td>0</td>\n",
              "      <td>@USER yeaah ma fe yn wir. ( oh well.</td>\n",
              "    </tr>\n",
              "    <tr>\n",
              "      <th>3</th>\n",
              "      <td>1</td>\n",
              "      <td>@USER hahaha idk. 3am oedd y bws ti?</td>\n",
              "    </tr>\n",
              "    <tr>\n",
              "      <th>4</th>\n",
              "      <td>0</td>\n",
              "      <td>@USER dwim yn gal llun ohoni?</td>\n",
              "    </tr>\n",
              "  </tbody>\n",
              "</table>\n",
              "</div>\n",
              "      <button class=\"colab-df-convert\" onclick=\"convertToInteractive('df-67484291-26cc-4716-ae8f-e15e1a3f58cc')\"\n",
              "              title=\"Convert this dataframe to an interactive table.\"\n",
              "              style=\"display:none;\">\n",
              "        \n",
              "  <svg xmlns=\"http://www.w3.org/2000/svg\" height=\"24px\"viewBox=\"0 0 24 24\"\n",
              "       width=\"24px\">\n",
              "    <path d=\"M0 0h24v24H0V0z\" fill=\"none\"/>\n",
              "    <path d=\"M18.56 5.44l.94 2.06.94-2.06 2.06-.94-2.06-.94-.94-2.06-.94 2.06-2.06.94zm-11 1L8.5 8.5l.94-2.06 2.06-.94-2.06-.94L8.5 2.5l-.94 2.06-2.06.94zm10 10l.94 2.06.94-2.06 2.06-.94-2.06-.94-.94-2.06-.94 2.06-2.06.94z\"/><path d=\"M17.41 7.96l-1.37-1.37c-.4-.4-.92-.59-1.43-.59-.52 0-1.04.2-1.43.59L10.3 9.45l-7.72 7.72c-.78.78-.78 2.05 0 2.83L4 21.41c.39.39.9.59 1.41.59.51 0 1.02-.2 1.41-.59l7.78-7.78 2.81-2.81c.8-.78.8-2.07 0-2.86zM5.41 20L4 18.59l7.72-7.72 1.47 1.35L5.41 20z\"/>\n",
              "  </svg>\n",
              "      </button>\n",
              "      \n",
              "  <style>\n",
              "    .colab-df-container {\n",
              "      display:flex;\n",
              "      flex-wrap:wrap;\n",
              "      gap: 12px;\n",
              "    }\n",
              "\n",
              "    .colab-df-convert {\n",
              "      background-color: #E8F0FE;\n",
              "      border: none;\n",
              "      border-radius: 50%;\n",
              "      cursor: pointer;\n",
              "      display: none;\n",
              "      fill: #1967D2;\n",
              "      height: 32px;\n",
              "      padding: 0 0 0 0;\n",
              "      width: 32px;\n",
              "    }\n",
              "\n",
              "    .colab-df-convert:hover {\n",
              "      background-color: #E2EBFA;\n",
              "      box-shadow: 0px 1px 2px rgba(60, 64, 67, 0.3), 0px 1px 3px 1px rgba(60, 64, 67, 0.15);\n",
              "      fill: #174EA6;\n",
              "    }\n",
              "\n",
              "    [theme=dark] .colab-df-convert {\n",
              "      background-color: #3B4455;\n",
              "      fill: #D2E3FC;\n",
              "    }\n",
              "\n",
              "    [theme=dark] .colab-df-convert:hover {\n",
              "      background-color: #434B5C;\n",
              "      box-shadow: 0px 1px 3px 1px rgba(0, 0, 0, 0.15);\n",
              "      filter: drop-shadow(0px 1px 2px rgba(0, 0, 0, 0.3));\n",
              "      fill: #FFFFFF;\n",
              "    }\n",
              "  </style>\n",
              "\n",
              "      <script>\n",
              "        const buttonEl =\n",
              "          document.querySelector('#df-67484291-26cc-4716-ae8f-e15e1a3f58cc button.colab-df-convert');\n",
              "        buttonEl.style.display =\n",
              "          google.colab.kernel.accessAllowed ? 'block' : 'none';\n",
              "\n",
              "        async function convertToInteractive(key) {\n",
              "          const element = document.querySelector('#df-67484291-26cc-4716-ae8f-e15e1a3f58cc');\n",
              "          const dataTable =\n",
              "            await google.colab.kernel.invokeFunction('convertToInteractive',\n",
              "                                                     [key], {});\n",
              "          if (!dataTable) return;\n",
              "\n",
              "          const docLinkHtml = 'Like what you see? Visit the ' +\n",
              "            '<a target=\"_blank\" href=https://colab.research.google.com/notebooks/data_table.ipynb>data table notebook</a>'\n",
              "            + ' to learn more about interactive tables.';\n",
              "          element.innerHTML = '';\n",
              "          dataTable['output_type'] = 'display_data';\n",
              "          await google.colab.output.renderOutput(dataTable, element);\n",
              "          const docLink = document.createElement('div');\n",
              "          docLink.innerHTML = docLinkHtml;\n",
              "          element.appendChild(docLink);\n",
              "        }\n",
              "      </script>\n",
              "    </div>\n",
              "  </div>\n",
              "  "
            ]
          },
          "metadata": {},
          "execution_count": 741
        }
      ]
    },
    {
      "cell_type": "code",
      "source": [
        "# importing test data set\n",
        "dft=pd.read_csv('test.tsv',sep='\\t',header=None)\n",
        "dft.head()"
      ],
      "metadata": {
        "colab": {
          "base_uri": "https://localhost:8080/",
          "height": 206
        },
        "id": "MAXWXc62d6Ml",
        "outputId": "9d43f578-08c8-46c5-f992-d5553ce7e5ca"
      },
      "execution_count": null,
      "outputs": [
        {
          "output_type": "execute_result",
          "data": {
            "text/plain": [
              "   0                                                  1\n",
              "0  0  @USER @USER nos sadwrn dwi fyd, rudimental a e...\n",
              "1  1  @USER @USER haia! Pob hwyl fory hogs. Cofiwch ...\n",
              "2  0  Loner trwy'r dydd heddiw yn ddiolchgar am cwmm...\n",
              "3  1  @USER good news, ma'r braid yn cal aros miwn! ...\n",
              "4  1  @USER Wi'n gobeithio ti'n cael nadolig gwych g..."
            ],
            "text/html": [
              "\n",
              "  <div id=\"df-38837bb6-719b-49aa-ae4b-93bf7a8ca639\">\n",
              "    <div class=\"colab-df-container\">\n",
              "      <div>\n",
              "<style scoped>\n",
              "    .dataframe tbody tr th:only-of-type {\n",
              "        vertical-align: middle;\n",
              "    }\n",
              "\n",
              "    .dataframe tbody tr th {\n",
              "        vertical-align: top;\n",
              "    }\n",
              "\n",
              "    .dataframe thead th {\n",
              "        text-align: right;\n",
              "    }\n",
              "</style>\n",
              "<table border=\"1\" class=\"dataframe\">\n",
              "  <thead>\n",
              "    <tr style=\"text-align: right;\">\n",
              "      <th></th>\n",
              "      <th>0</th>\n",
              "      <th>1</th>\n",
              "    </tr>\n",
              "  </thead>\n",
              "  <tbody>\n",
              "    <tr>\n",
              "      <th>0</th>\n",
              "      <td>0</td>\n",
              "      <td>@USER @USER nos sadwrn dwi fyd, rudimental a e...</td>\n",
              "    </tr>\n",
              "    <tr>\n",
              "      <th>1</th>\n",
              "      <td>1</td>\n",
              "      <td>@USER @USER haia! Pob hwyl fory hogs. Cofiwch ...</td>\n",
              "    </tr>\n",
              "    <tr>\n",
              "      <th>2</th>\n",
              "      <td>0</td>\n",
              "      <td>Loner trwy'r dydd heddiw yn ddiolchgar am cwmm...</td>\n",
              "    </tr>\n",
              "    <tr>\n",
              "      <th>3</th>\n",
              "      <td>1</td>\n",
              "      <td>@USER good news, ma'r braid yn cal aros miwn! ...</td>\n",
              "    </tr>\n",
              "    <tr>\n",
              "      <th>4</th>\n",
              "      <td>1</td>\n",
              "      <td>@USER Wi'n gobeithio ti'n cael nadolig gwych g...</td>\n",
              "    </tr>\n",
              "  </tbody>\n",
              "</table>\n",
              "</div>\n",
              "      <button class=\"colab-df-convert\" onclick=\"convertToInteractive('df-38837bb6-719b-49aa-ae4b-93bf7a8ca639')\"\n",
              "              title=\"Convert this dataframe to an interactive table.\"\n",
              "              style=\"display:none;\">\n",
              "        \n",
              "  <svg xmlns=\"http://www.w3.org/2000/svg\" height=\"24px\"viewBox=\"0 0 24 24\"\n",
              "       width=\"24px\">\n",
              "    <path d=\"M0 0h24v24H0V0z\" fill=\"none\"/>\n",
              "    <path d=\"M18.56 5.44l.94 2.06.94-2.06 2.06-.94-2.06-.94-.94-2.06-.94 2.06-2.06.94zm-11 1L8.5 8.5l.94-2.06 2.06-.94-2.06-.94L8.5 2.5l-.94 2.06-2.06.94zm10 10l.94 2.06.94-2.06 2.06-.94-2.06-.94-.94-2.06-.94 2.06-2.06.94z\"/><path d=\"M17.41 7.96l-1.37-1.37c-.4-.4-.92-.59-1.43-.59-.52 0-1.04.2-1.43.59L10.3 9.45l-7.72 7.72c-.78.78-.78 2.05 0 2.83L4 21.41c.39.39.9.59 1.41.59.51 0 1.02-.2 1.41-.59l7.78-7.78 2.81-2.81c.8-.78.8-2.07 0-2.86zM5.41 20L4 18.59l7.72-7.72 1.47 1.35L5.41 20z\"/>\n",
              "  </svg>\n",
              "      </button>\n",
              "      \n",
              "  <style>\n",
              "    .colab-df-container {\n",
              "      display:flex;\n",
              "      flex-wrap:wrap;\n",
              "      gap: 12px;\n",
              "    }\n",
              "\n",
              "    .colab-df-convert {\n",
              "      background-color: #E8F0FE;\n",
              "      border: none;\n",
              "      border-radius: 50%;\n",
              "      cursor: pointer;\n",
              "      display: none;\n",
              "      fill: #1967D2;\n",
              "      height: 32px;\n",
              "      padding: 0 0 0 0;\n",
              "      width: 32px;\n",
              "    }\n",
              "\n",
              "    .colab-df-convert:hover {\n",
              "      background-color: #E2EBFA;\n",
              "      box-shadow: 0px 1px 2px rgba(60, 64, 67, 0.3), 0px 1px 3px 1px rgba(60, 64, 67, 0.15);\n",
              "      fill: #174EA6;\n",
              "    }\n",
              "\n",
              "    [theme=dark] .colab-df-convert {\n",
              "      background-color: #3B4455;\n",
              "      fill: #D2E3FC;\n",
              "    }\n",
              "\n",
              "    [theme=dark] .colab-df-convert:hover {\n",
              "      background-color: #434B5C;\n",
              "      box-shadow: 0px 1px 3px 1px rgba(0, 0, 0, 0.15);\n",
              "      filter: drop-shadow(0px 1px 2px rgba(0, 0, 0, 0.3));\n",
              "      fill: #FFFFFF;\n",
              "    }\n",
              "  </style>\n",
              "\n",
              "      <script>\n",
              "        const buttonEl =\n",
              "          document.querySelector('#df-38837bb6-719b-49aa-ae4b-93bf7a8ca639 button.colab-df-convert');\n",
              "        buttonEl.style.display =\n",
              "          google.colab.kernel.accessAllowed ? 'block' : 'none';\n",
              "\n",
              "        async function convertToInteractive(key) {\n",
              "          const element = document.querySelector('#df-38837bb6-719b-49aa-ae4b-93bf7a8ca639');\n",
              "          const dataTable =\n",
              "            await google.colab.kernel.invokeFunction('convertToInteractive',\n",
              "                                                     [key], {});\n",
              "          if (!dataTable) return;\n",
              "\n",
              "          const docLinkHtml = 'Like what you see? Visit the ' +\n",
              "            '<a target=\"_blank\" href=https://colab.research.google.com/notebooks/data_table.ipynb>data table notebook</a>'\n",
              "            + ' to learn more about interactive tables.';\n",
              "          element.innerHTML = '';\n",
              "          dataTable['output_type'] = 'display_data';\n",
              "          await google.colab.output.renderOutput(dataTable, element);\n",
              "          const docLink = document.createElement('div');\n",
              "          docLink.innerHTML = docLinkHtml;\n",
              "          element.appendChild(docLink);\n",
              "        }\n",
              "      </script>\n",
              "    </div>\n",
              "  </div>\n",
              "  "
            ]
          },
          "metadata": {},
          "execution_count": 742
        }
      ]
    },
    {
      "cell_type": "code",
      "source": [
        "df.describe()\n",
        "dft.info()"
      ],
      "metadata": {
        "colab": {
          "base_uri": "https://localhost:8080/"
        },
        "id": "naYkmsYbgU7e",
        "outputId": "17875034-1561-4ddc-afcf-29e57d1584b4"
      },
      "execution_count": null,
      "outputs": [
        {
          "output_type": "stream",
          "name": "stdout",
          "text": [
            "<class 'pandas.core.frame.DataFrame'>\n",
            "RangeIndex: 9672 entries, 0 to 9671\n",
            "Data columns (total 2 columns):\n",
            " #   Column  Non-Null Count  Dtype \n",
            "---  ------  --------------  ----- \n",
            " 0   0       9672 non-null   int64 \n",
            " 1   1       9672 non-null   object\n",
            "dtypes: int64(1), object(1)\n",
            "memory usage: 151.2+ KB\n"
          ]
        }
      ]
    },
    {
      "cell_type": "code",
      "source": [
        "# I tried a list on words that i got from wikipedia (i converted them into a csv file)\n",
        "dl=pd.read_csv('welshstpwxlsx.csv',header=None)\n",
        "dl[0]"
      ],
      "metadata": {
        "colab": {
          "base_uri": "https://localhost:8080/"
        },
        "id": "XlU3q58jxJxq",
        "outputId": "f2b108af-87bd-4c05-ef05-a638cc0deeca"
      },
      "execution_count": null,
      "outputs": [
        {
          "output_type": "execute_result",
          "data": {
            "text/plain": [
              "0         yn\n",
              "1          y\n",
              "2          i\n",
              "3          a\n",
              "4         'r\n",
              "       ...  \n",
              "95      rhyw\n",
              "96       pen\n",
              "97    meddai\n",
              "98       byd\n",
              "99       yno\n",
              "Name: 0, Length: 100, dtype: object"
            ]
          },
          "metadata": {},
          "execution_count": 744
        }
      ]
    },
    {
      "cell_type": "code",
      "source": [
        "#list of stop words\n",
        "stopwords = dl[0].tolist()\n",
        "stopwords.remove('Cymru')\n",
        "stopwords.remove('Cymraeg')\n",
        "\n",
        "stopwords"
      ],
      "metadata": {
        "colab": {
          "base_uri": "https://localhost:8080/"
        },
        "id": "ijqsLShXxWxY",
        "outputId": "3361faac-506f-40c6-eacb-dc5a032a1386"
      },
      "execution_count": null,
      "outputs": [
        {
          "output_type": "execute_result",
          "data": {
            "text/plain": [
              "['yn',\n",
              " 'y',\n",
              " 'i',\n",
              " 'a',\n",
              " \"'r\",\n",
              " 'o',\n",
              " 'ar',\n",
              " 'ei',\n",
              " \"'n\",\n",
              " 'yr',\n",
              " 'ac',\n",
              " 'oedd',\n",
              " 'bod',\n",
              " 'mae',\n",
              " 'am',\n",
              " 'wedi',\n",
              " 'ond',\n",
              " 'un',\n",
              " \"'i\",\n",
              " 'eu',\n",
              " 'gan',\n",
              " 'fel',\n",
              " 'mewn',\n",
              " 'â',\n",
              " 'roedd',\n",
              " 'cael',\n",
              " 'yw',\n",
              " 'wrth',\n",
              " 'ni',\n",
              " 'hyn',\n",
              " 'na',\n",
              " 'ôl',\n",
              " 'hynny',\n",
              " 'fe',\n",
              " 'er',\n",
              " 'neu',\n",
              " 'nid',\n",
              " 'at',\n",
              " 'sy',\n",
              " \"'w\",\n",
              " 'hi',\n",
              " 'dim',\n",
              " 'mynd',\n",
              " 'byddai',\n",
              " 'gyda',\n",
              " 'yng',\n",
              " 'iawn',\n",
              " 'pob',\n",
              " 'lle',\n",
              " 'pan',\n",
              " 'bu',\n",
              " 'gwaith',\n",
              " 'mawr',\n",
              " 'rhai',\n",
              " 'ym',\n",
              " 'fy',\n",
              " 'bydd',\n",
              " 'gwneud',\n",
              " 'hyd',\n",
              " 'hefyd',\n",
              " 'mi',\n",
              " 'mai',\n",
              " 'sydd',\n",
              " 'gweld',\n",
              " 'trwy',\n",
              " 'iddo',\n",
              " 'arall',\n",
              " 'yna',\n",
              " \"'u\",\n",
              " 'mwy',\n",
              " 'nhw',\n",
              " 'ein',\n",
              " 'hwn',\n",
              " 'hen',\n",
              " 'mor',\n",
              " 'yma',\n",
              " 'cyn',\n",
              " 'rhaid',\n",
              " 'nad',\n",
              " 'pobl',\n",
              " 'ef',\n",
              " 'dau',\n",
              " 'rhan',\n",
              " 'llawer',\n",
              " 'chi',\n",
              " 'os',\n",
              " 'rhoi',\n",
              " 'daeth',\n",
              " 'hun',\n",
              " 'cyntaf',\n",
              " 'newydd',\n",
              " 'felly',\n",
              " 'tros',\n",
              " 'rhyw',\n",
              " 'pen',\n",
              " 'meddai',\n",
              " 'byd',\n",
              " 'yno']"
            ]
          },
          "metadata": {},
          "execution_count": 745
        }
      ]
    },
    {
      "cell_type": "code",
      "source": [
        "df.info()\n",
        "df.describe()"
      ],
      "metadata": {
        "colab": {
          "base_uri": "https://localhost:8080/",
          "height": 456
        },
        "id": "t_42neM4eWi-",
        "outputId": "19a69982-6ddd-44ed-c301-24b75b77c3fa"
      },
      "execution_count": null,
      "outputs": [
        {
          "output_type": "stream",
          "name": "stdout",
          "text": [
            "<class 'pandas.core.frame.DataFrame'>\n",
            "RangeIndex: 78609 entries, 0 to 78608\n",
            "Data columns (total 2 columns):\n",
            " #   Column  Non-Null Count  Dtype \n",
            "---  ------  --------------  ----- \n",
            " 0   0       78609 non-null  int64 \n",
            " 1   1       78609 non-null  object\n",
            "dtypes: int64(1), object(1)\n",
            "memory usage: 1.2+ MB\n"
          ]
        },
        {
          "output_type": "execute_result",
          "data": {
            "text/plain": [
              "                  0\n",
              "count  78609.000000\n",
              "mean       0.500312\n",
              "std        0.500003\n",
              "min        0.000000\n",
              "25%        0.000000\n",
              "50%        1.000000\n",
              "75%        1.000000\n",
              "max        1.000000"
            ],
            "text/html": [
              "\n",
              "  <div id=\"df-0ad6e1d7-6e4b-4e08-82c1-a5ab8c47c641\">\n",
              "    <div class=\"colab-df-container\">\n",
              "      <div>\n",
              "<style scoped>\n",
              "    .dataframe tbody tr th:only-of-type {\n",
              "        vertical-align: middle;\n",
              "    }\n",
              "\n",
              "    .dataframe tbody tr th {\n",
              "        vertical-align: top;\n",
              "    }\n",
              "\n",
              "    .dataframe thead th {\n",
              "        text-align: right;\n",
              "    }\n",
              "</style>\n",
              "<table border=\"1\" class=\"dataframe\">\n",
              "  <thead>\n",
              "    <tr style=\"text-align: right;\">\n",
              "      <th></th>\n",
              "      <th>0</th>\n",
              "    </tr>\n",
              "  </thead>\n",
              "  <tbody>\n",
              "    <tr>\n",
              "      <th>count</th>\n",
              "      <td>78609.000000</td>\n",
              "    </tr>\n",
              "    <tr>\n",
              "      <th>mean</th>\n",
              "      <td>0.500312</td>\n",
              "    </tr>\n",
              "    <tr>\n",
              "      <th>std</th>\n",
              "      <td>0.500003</td>\n",
              "    </tr>\n",
              "    <tr>\n",
              "      <th>min</th>\n",
              "      <td>0.000000</td>\n",
              "    </tr>\n",
              "    <tr>\n",
              "      <th>25%</th>\n",
              "      <td>0.000000</td>\n",
              "    </tr>\n",
              "    <tr>\n",
              "      <th>50%</th>\n",
              "      <td>1.000000</td>\n",
              "    </tr>\n",
              "    <tr>\n",
              "      <th>75%</th>\n",
              "      <td>1.000000</td>\n",
              "    </tr>\n",
              "    <tr>\n",
              "      <th>max</th>\n",
              "      <td>1.000000</td>\n",
              "    </tr>\n",
              "  </tbody>\n",
              "</table>\n",
              "</div>\n",
              "      <button class=\"colab-df-convert\" onclick=\"convertToInteractive('df-0ad6e1d7-6e4b-4e08-82c1-a5ab8c47c641')\"\n",
              "              title=\"Convert this dataframe to an interactive table.\"\n",
              "              style=\"display:none;\">\n",
              "        \n",
              "  <svg xmlns=\"http://www.w3.org/2000/svg\" height=\"24px\"viewBox=\"0 0 24 24\"\n",
              "       width=\"24px\">\n",
              "    <path d=\"M0 0h24v24H0V0z\" fill=\"none\"/>\n",
              "    <path d=\"M18.56 5.44l.94 2.06.94-2.06 2.06-.94-2.06-.94-.94-2.06-.94 2.06-2.06.94zm-11 1L8.5 8.5l.94-2.06 2.06-.94-2.06-.94L8.5 2.5l-.94 2.06-2.06.94zm10 10l.94 2.06.94-2.06 2.06-.94-2.06-.94-.94-2.06-.94 2.06-2.06.94z\"/><path d=\"M17.41 7.96l-1.37-1.37c-.4-.4-.92-.59-1.43-.59-.52 0-1.04.2-1.43.59L10.3 9.45l-7.72 7.72c-.78.78-.78 2.05 0 2.83L4 21.41c.39.39.9.59 1.41.59.51 0 1.02-.2 1.41-.59l7.78-7.78 2.81-2.81c.8-.78.8-2.07 0-2.86zM5.41 20L4 18.59l7.72-7.72 1.47 1.35L5.41 20z\"/>\n",
              "  </svg>\n",
              "      </button>\n",
              "      \n",
              "  <style>\n",
              "    .colab-df-container {\n",
              "      display:flex;\n",
              "      flex-wrap:wrap;\n",
              "      gap: 12px;\n",
              "    }\n",
              "\n",
              "    .colab-df-convert {\n",
              "      background-color: #E8F0FE;\n",
              "      border: none;\n",
              "      border-radius: 50%;\n",
              "      cursor: pointer;\n",
              "      display: none;\n",
              "      fill: #1967D2;\n",
              "      height: 32px;\n",
              "      padding: 0 0 0 0;\n",
              "      width: 32px;\n",
              "    }\n",
              "\n",
              "    .colab-df-convert:hover {\n",
              "      background-color: #E2EBFA;\n",
              "      box-shadow: 0px 1px 2px rgba(60, 64, 67, 0.3), 0px 1px 3px 1px rgba(60, 64, 67, 0.15);\n",
              "      fill: #174EA6;\n",
              "    }\n",
              "\n",
              "    [theme=dark] .colab-df-convert {\n",
              "      background-color: #3B4455;\n",
              "      fill: #D2E3FC;\n",
              "    }\n",
              "\n",
              "    [theme=dark] .colab-df-convert:hover {\n",
              "      background-color: #434B5C;\n",
              "      box-shadow: 0px 1px 3px 1px rgba(0, 0, 0, 0.15);\n",
              "      filter: drop-shadow(0px 1px 2px rgba(0, 0, 0, 0.3));\n",
              "      fill: #FFFFFF;\n",
              "    }\n",
              "  </style>\n",
              "\n",
              "      <script>\n",
              "        const buttonEl =\n",
              "          document.querySelector('#df-0ad6e1d7-6e4b-4e08-82c1-a5ab8c47c641 button.colab-df-convert');\n",
              "        buttonEl.style.display =\n",
              "          google.colab.kernel.accessAllowed ? 'block' : 'none';\n",
              "\n",
              "        async function convertToInteractive(key) {\n",
              "          const element = document.querySelector('#df-0ad6e1d7-6e4b-4e08-82c1-a5ab8c47c641');\n",
              "          const dataTable =\n",
              "            await google.colab.kernel.invokeFunction('convertToInteractive',\n",
              "                                                     [key], {});\n",
              "          if (!dataTable) return;\n",
              "\n",
              "          const docLinkHtml = 'Like what you see? Visit the ' +\n",
              "            '<a target=\"_blank\" href=https://colab.research.google.com/notebooks/data_table.ipynb>data table notebook</a>'\n",
              "            + ' to learn more about interactive tables.';\n",
              "          element.innerHTML = '';\n",
              "          dataTable['output_type'] = 'display_data';\n",
              "          await google.colab.output.renderOutput(dataTable, element);\n",
              "          const docLink = document.createElement('div');\n",
              "          docLink.innerHTML = docLinkHtml;\n",
              "          element.appendChild(docLink);\n",
              "        }\n",
              "      </script>\n",
              "    </div>\n",
              "  </div>\n",
              "  "
            ]
          },
          "metadata": {},
          "execution_count": 746
        }
      ]
    },
    {
      "cell_type": "code",
      "source": [
        "df.columns = ['index','welsh tweets']\n",
        "df.head()\n",
        "dft.columns = ['index','welsh tweets']\n",
        "dft.head()"
      ],
      "metadata": {
        "colab": {
          "base_uri": "https://localhost:8080/",
          "height": 206
        },
        "id": "HC67CmpRqHeF",
        "outputId": "be87b188-f7c8-46c7-aeb2-fb6588dacba5"
      },
      "execution_count": null,
      "outputs": [
        {
          "output_type": "execute_result",
          "data": {
            "text/plain": [
              "   index                                       welsh tweets\n",
              "0      0  @USER @USER nos sadwrn dwi fyd, rudimental a e...\n",
              "1      1  @USER @USER haia! Pob hwyl fory hogs. Cofiwch ...\n",
              "2      0  Loner trwy'r dydd heddiw yn ddiolchgar am cwmm...\n",
              "3      1  @USER good news, ma'r braid yn cal aros miwn! ...\n",
              "4      1  @USER Wi'n gobeithio ti'n cael nadolig gwych g..."
            ],
            "text/html": [
              "\n",
              "  <div id=\"df-548f90b5-ace3-4995-ae71-3838156286ed\">\n",
              "    <div class=\"colab-df-container\">\n",
              "      <div>\n",
              "<style scoped>\n",
              "    .dataframe tbody tr th:only-of-type {\n",
              "        vertical-align: middle;\n",
              "    }\n",
              "\n",
              "    .dataframe tbody tr th {\n",
              "        vertical-align: top;\n",
              "    }\n",
              "\n",
              "    .dataframe thead th {\n",
              "        text-align: right;\n",
              "    }\n",
              "</style>\n",
              "<table border=\"1\" class=\"dataframe\">\n",
              "  <thead>\n",
              "    <tr style=\"text-align: right;\">\n",
              "      <th></th>\n",
              "      <th>index</th>\n",
              "      <th>welsh tweets</th>\n",
              "    </tr>\n",
              "  </thead>\n",
              "  <tbody>\n",
              "    <tr>\n",
              "      <th>0</th>\n",
              "      <td>0</td>\n",
              "      <td>@USER @USER nos sadwrn dwi fyd, rudimental a e...</td>\n",
              "    </tr>\n",
              "    <tr>\n",
              "      <th>1</th>\n",
              "      <td>1</td>\n",
              "      <td>@USER @USER haia! Pob hwyl fory hogs. Cofiwch ...</td>\n",
              "    </tr>\n",
              "    <tr>\n",
              "      <th>2</th>\n",
              "      <td>0</td>\n",
              "      <td>Loner trwy'r dydd heddiw yn ddiolchgar am cwmm...</td>\n",
              "    </tr>\n",
              "    <tr>\n",
              "      <th>3</th>\n",
              "      <td>1</td>\n",
              "      <td>@USER good news, ma'r braid yn cal aros miwn! ...</td>\n",
              "    </tr>\n",
              "    <tr>\n",
              "      <th>4</th>\n",
              "      <td>1</td>\n",
              "      <td>@USER Wi'n gobeithio ti'n cael nadolig gwych g...</td>\n",
              "    </tr>\n",
              "  </tbody>\n",
              "</table>\n",
              "</div>\n",
              "      <button class=\"colab-df-convert\" onclick=\"convertToInteractive('df-548f90b5-ace3-4995-ae71-3838156286ed')\"\n",
              "              title=\"Convert this dataframe to an interactive table.\"\n",
              "              style=\"display:none;\">\n",
              "        \n",
              "  <svg xmlns=\"http://www.w3.org/2000/svg\" height=\"24px\"viewBox=\"0 0 24 24\"\n",
              "       width=\"24px\">\n",
              "    <path d=\"M0 0h24v24H0V0z\" fill=\"none\"/>\n",
              "    <path d=\"M18.56 5.44l.94 2.06.94-2.06 2.06-.94-2.06-.94-.94-2.06-.94 2.06-2.06.94zm-11 1L8.5 8.5l.94-2.06 2.06-.94-2.06-.94L8.5 2.5l-.94 2.06-2.06.94zm10 10l.94 2.06.94-2.06 2.06-.94-2.06-.94-.94-2.06-.94 2.06-2.06.94z\"/><path d=\"M17.41 7.96l-1.37-1.37c-.4-.4-.92-.59-1.43-.59-.52 0-1.04.2-1.43.59L10.3 9.45l-7.72 7.72c-.78.78-.78 2.05 0 2.83L4 21.41c.39.39.9.59 1.41.59.51 0 1.02-.2 1.41-.59l7.78-7.78 2.81-2.81c.8-.78.8-2.07 0-2.86zM5.41 20L4 18.59l7.72-7.72 1.47 1.35L5.41 20z\"/>\n",
              "  </svg>\n",
              "      </button>\n",
              "      \n",
              "  <style>\n",
              "    .colab-df-container {\n",
              "      display:flex;\n",
              "      flex-wrap:wrap;\n",
              "      gap: 12px;\n",
              "    }\n",
              "\n",
              "    .colab-df-convert {\n",
              "      background-color: #E8F0FE;\n",
              "      border: none;\n",
              "      border-radius: 50%;\n",
              "      cursor: pointer;\n",
              "      display: none;\n",
              "      fill: #1967D2;\n",
              "      height: 32px;\n",
              "      padding: 0 0 0 0;\n",
              "      width: 32px;\n",
              "    }\n",
              "\n",
              "    .colab-df-convert:hover {\n",
              "      background-color: #E2EBFA;\n",
              "      box-shadow: 0px 1px 2px rgba(60, 64, 67, 0.3), 0px 1px 3px 1px rgba(60, 64, 67, 0.15);\n",
              "      fill: #174EA6;\n",
              "    }\n",
              "\n",
              "    [theme=dark] .colab-df-convert {\n",
              "      background-color: #3B4455;\n",
              "      fill: #D2E3FC;\n",
              "    }\n",
              "\n",
              "    [theme=dark] .colab-df-convert:hover {\n",
              "      background-color: #434B5C;\n",
              "      box-shadow: 0px 1px 3px 1px rgba(0, 0, 0, 0.15);\n",
              "      filter: drop-shadow(0px 1px 2px rgba(0, 0, 0, 0.3));\n",
              "      fill: #FFFFFF;\n",
              "    }\n",
              "  </style>\n",
              "\n",
              "      <script>\n",
              "        const buttonEl =\n",
              "          document.querySelector('#df-548f90b5-ace3-4995-ae71-3838156286ed button.colab-df-convert');\n",
              "        buttonEl.style.display =\n",
              "          google.colab.kernel.accessAllowed ? 'block' : 'none';\n",
              "\n",
              "        async function convertToInteractive(key) {\n",
              "          const element = document.querySelector('#df-548f90b5-ace3-4995-ae71-3838156286ed');\n",
              "          const dataTable =\n",
              "            await google.colab.kernel.invokeFunction('convertToInteractive',\n",
              "                                                     [key], {});\n",
              "          if (!dataTable) return;\n",
              "\n",
              "          const docLinkHtml = 'Like what you see? Visit the ' +\n",
              "            '<a target=\"_blank\" href=https://colab.research.google.com/notebooks/data_table.ipynb>data table notebook</a>'\n",
              "            + ' to learn more about interactive tables.';\n",
              "          element.innerHTML = '';\n",
              "          dataTable['output_type'] = 'display_data';\n",
              "          await google.colab.output.renderOutput(dataTable, element);\n",
              "          const docLink = document.createElement('div');\n",
              "          docLink.innerHTML = docLinkHtml;\n",
              "          element.appendChild(docLink);\n",
              "        }\n",
              "      </script>\n",
              "    </div>\n",
              "  </div>\n",
              "  "
            ]
          },
          "metadata": {},
          "execution_count": 747
        }
      ]
    },
    {
      "cell_type": "code",
      "source": [
        "#converting all the strings into lower case letters.\n",
        "df_lower = df[\"welsh tweets\"].map(lambda x: x.lower())\n",
        "#converting all the strings into lower case letters.\n",
        "dft_lower = dft[\"welsh tweets\"].map(lambda x: x.lower())"
      ],
      "metadata": {
        "id": "gWm_bquiIepv"
      },
      "execution_count": null,
      "outputs": []
    },
    {
      "cell_type": "code",
      "source": [
        "df_lower_tweets = pd.DataFrame(df_lower)\n",
        "dft_lower_tweets = pd.DataFrame(dft_lower)"
      ],
      "metadata": {
        "id": "Y_3Q3tpc0QDN"
      },
      "execution_count": null,
      "outputs": []
    },
    {
      "cell_type": "code",
      "source": [
        "# this is the code for replacing emojis with text\n",
        "df_emoji = df_lower_tweets['welsh tweets'].apply(lambda x: emoji.demojize(x))\n",
        "# this is the code for replacing emojis with text\n",
        "dft_emoji = dft_lower_tweets['welsh tweets'].apply(lambda x: emoji.demojize(x))\n"
      ],
      "metadata": {
        "id": "Vf0huso92kI2"
      },
      "execution_count": null,
      "outputs": []
    },
    {
      "cell_type": "code",
      "source": [
        "df_no_emoji_lower = pd.DataFrame(df_emoji)\n",
        "dft_no_emoji_lower = pd.DataFrame(dft_emoji)"
      ],
      "metadata": {
        "id": "-cHLs0G725Eu"
      },
      "execution_count": null,
      "outputs": []
    },
    {
      "cell_type": "code",
      "source": [
        "df_no_emoji_lower"
      ],
      "metadata": {
        "colab": {
          "base_uri": "https://localhost:8080/",
          "height": 424
        },
        "id": "4WeEqpWXyWae",
        "outputId": "803f335d-ec15-4100-9da6-043b22d13187"
      },
      "execution_count": null,
      "outputs": [
        {
          "output_type": "execute_result",
          "data": {
            "text/plain": [
              "                                            welsh tweets\n",
              "0      @user @user a sicrhau bod mwy o arian poced 'd...\n",
              "1      parti dolig da gyda tim swyddfa canolog @user ...\n",
              "2                   @user yeaah ma fe yn wir. ( oh well.\n",
              "3                   @user hahaha idk. 3am oedd y bws ti?\n",
              "4                          @user dwim yn gal llun ohoni?\n",
              "...                                                  ...\n",
              "78604  @user @user diolch yn fawr am ein diweddaru, r...\n",
              "78605  @user @user @user diolch! digon o opsiynne felly!\n",
              "78606                 mor hungover heddiw :water_pistol:\n",
              "78607  @user eidiaaaal, awni dydd llun nesa ia? y air...\n",
              "78608  @user ahaha, aino maisho mynadd! erm o be dwin...\n",
              "\n",
              "[78609 rows x 1 columns]"
            ],
            "text/html": [
              "\n",
              "  <div id=\"df-a02520ba-d81f-46fa-a96a-d2dd4d1dbd1e\">\n",
              "    <div class=\"colab-df-container\">\n",
              "      <div>\n",
              "<style scoped>\n",
              "    .dataframe tbody tr th:only-of-type {\n",
              "        vertical-align: middle;\n",
              "    }\n",
              "\n",
              "    .dataframe tbody tr th {\n",
              "        vertical-align: top;\n",
              "    }\n",
              "\n",
              "    .dataframe thead th {\n",
              "        text-align: right;\n",
              "    }\n",
              "</style>\n",
              "<table border=\"1\" class=\"dataframe\">\n",
              "  <thead>\n",
              "    <tr style=\"text-align: right;\">\n",
              "      <th></th>\n",
              "      <th>welsh tweets</th>\n",
              "    </tr>\n",
              "  </thead>\n",
              "  <tbody>\n",
              "    <tr>\n",
              "      <th>0</th>\n",
              "      <td>@user @user a sicrhau bod mwy o arian poced 'd...</td>\n",
              "    </tr>\n",
              "    <tr>\n",
              "      <th>1</th>\n",
              "      <td>parti dolig da gyda tim swyddfa canolog @user ...</td>\n",
              "    </tr>\n",
              "    <tr>\n",
              "      <th>2</th>\n",
              "      <td>@user yeaah ma fe yn wir. ( oh well.</td>\n",
              "    </tr>\n",
              "    <tr>\n",
              "      <th>3</th>\n",
              "      <td>@user hahaha idk. 3am oedd y bws ti?</td>\n",
              "    </tr>\n",
              "    <tr>\n",
              "      <th>4</th>\n",
              "      <td>@user dwim yn gal llun ohoni?</td>\n",
              "    </tr>\n",
              "    <tr>\n",
              "      <th>...</th>\n",
              "      <td>...</td>\n",
              "    </tr>\n",
              "    <tr>\n",
              "      <th>78604</th>\n",
              "      <td>@user @user diolch yn fawr am ein diweddaru, r...</td>\n",
              "    </tr>\n",
              "    <tr>\n",
              "      <th>78605</th>\n",
              "      <td>@user @user @user diolch! digon o opsiynne felly!</td>\n",
              "    </tr>\n",
              "    <tr>\n",
              "      <th>78606</th>\n",
              "      <td>mor hungover heddiw :water_pistol:</td>\n",
              "    </tr>\n",
              "    <tr>\n",
              "      <th>78607</th>\n",
              "      <td>@user eidiaaaal, awni dydd llun nesa ia? y air...</td>\n",
              "    </tr>\n",
              "    <tr>\n",
              "      <th>78608</th>\n",
              "      <td>@user ahaha, aino maisho mynadd! erm o be dwin...</td>\n",
              "    </tr>\n",
              "  </tbody>\n",
              "</table>\n",
              "<p>78609 rows × 1 columns</p>\n",
              "</div>\n",
              "      <button class=\"colab-df-convert\" onclick=\"convertToInteractive('df-a02520ba-d81f-46fa-a96a-d2dd4d1dbd1e')\"\n",
              "              title=\"Convert this dataframe to an interactive table.\"\n",
              "              style=\"display:none;\">\n",
              "        \n",
              "  <svg xmlns=\"http://www.w3.org/2000/svg\" height=\"24px\"viewBox=\"0 0 24 24\"\n",
              "       width=\"24px\">\n",
              "    <path d=\"M0 0h24v24H0V0z\" fill=\"none\"/>\n",
              "    <path d=\"M18.56 5.44l.94 2.06.94-2.06 2.06-.94-2.06-.94-.94-2.06-.94 2.06-2.06.94zm-11 1L8.5 8.5l.94-2.06 2.06-.94-2.06-.94L8.5 2.5l-.94 2.06-2.06.94zm10 10l.94 2.06.94-2.06 2.06-.94-2.06-.94-.94-2.06-.94 2.06-2.06.94z\"/><path d=\"M17.41 7.96l-1.37-1.37c-.4-.4-.92-.59-1.43-.59-.52 0-1.04.2-1.43.59L10.3 9.45l-7.72 7.72c-.78.78-.78 2.05 0 2.83L4 21.41c.39.39.9.59 1.41.59.51 0 1.02-.2 1.41-.59l7.78-7.78 2.81-2.81c.8-.78.8-2.07 0-2.86zM5.41 20L4 18.59l7.72-7.72 1.47 1.35L5.41 20z\"/>\n",
              "  </svg>\n",
              "      </button>\n",
              "      \n",
              "  <style>\n",
              "    .colab-df-container {\n",
              "      display:flex;\n",
              "      flex-wrap:wrap;\n",
              "      gap: 12px;\n",
              "    }\n",
              "\n",
              "    .colab-df-convert {\n",
              "      background-color: #E8F0FE;\n",
              "      border: none;\n",
              "      border-radius: 50%;\n",
              "      cursor: pointer;\n",
              "      display: none;\n",
              "      fill: #1967D2;\n",
              "      height: 32px;\n",
              "      padding: 0 0 0 0;\n",
              "      width: 32px;\n",
              "    }\n",
              "\n",
              "    .colab-df-convert:hover {\n",
              "      background-color: #E2EBFA;\n",
              "      box-shadow: 0px 1px 2px rgba(60, 64, 67, 0.3), 0px 1px 3px 1px rgba(60, 64, 67, 0.15);\n",
              "      fill: #174EA6;\n",
              "    }\n",
              "\n",
              "    [theme=dark] .colab-df-convert {\n",
              "      background-color: #3B4455;\n",
              "      fill: #D2E3FC;\n",
              "    }\n",
              "\n",
              "    [theme=dark] .colab-df-convert:hover {\n",
              "      background-color: #434B5C;\n",
              "      box-shadow: 0px 1px 3px 1px rgba(0, 0, 0, 0.15);\n",
              "      filter: drop-shadow(0px 1px 2px rgba(0, 0, 0, 0.3));\n",
              "      fill: #FFFFFF;\n",
              "    }\n",
              "  </style>\n",
              "\n",
              "      <script>\n",
              "        const buttonEl =\n",
              "          document.querySelector('#df-a02520ba-d81f-46fa-a96a-d2dd4d1dbd1e button.colab-df-convert');\n",
              "        buttonEl.style.display =\n",
              "          google.colab.kernel.accessAllowed ? 'block' : 'none';\n",
              "\n",
              "        async function convertToInteractive(key) {\n",
              "          const element = document.querySelector('#df-a02520ba-d81f-46fa-a96a-d2dd4d1dbd1e');\n",
              "          const dataTable =\n",
              "            await google.colab.kernel.invokeFunction('convertToInteractive',\n",
              "                                                     [key], {});\n",
              "          if (!dataTable) return;\n",
              "\n",
              "          const docLinkHtml = 'Like what you see? Visit the ' +\n",
              "            '<a target=\"_blank\" href=https://colab.research.google.com/notebooks/data_table.ipynb>data table notebook</a>'\n",
              "            + ' to learn more about interactive tables.';\n",
              "          element.innerHTML = '';\n",
              "          dataTable['output_type'] = 'display_data';\n",
              "          await google.colab.output.renderOutput(dataTable, element);\n",
              "          const docLink = document.createElement('div');\n",
              "          docLink.innerHTML = docLinkHtml;\n",
              "          element.appendChild(docLink);\n",
              "        }\n",
              "      </script>\n",
              "    </div>\n",
              "  </div>\n",
              "  "
            ]
          },
          "metadata": {},
          "execution_count": 752
        }
      ]
    },
    {
      "cell_type": "code",
      "source": [
        "df_clean = pd.concat([df, df_no_emoji_lower], axis=1, ignore_index=True)\n",
        "df_clean\n",
        "dft_clean = pd.concat([dft, dft_no_emoji_lower], axis=1, ignore_index=True)\n",
        "dft_clean"
      ],
      "metadata": {
        "colab": {
          "base_uri": "https://localhost:8080/",
          "height": 424
        },
        "id": "bgbyVRuFvyY9",
        "outputId": "65ea309b-f992-442c-dda1-554a1dfb780d"
      },
      "execution_count": null,
      "outputs": [
        {
          "output_type": "execute_result",
          "data": {
            "text/plain": [
              "      0                                                  1  \\\n",
              "0     0  @USER @USER nos sadwrn dwi fyd, rudimental a e...   \n",
              "1     1  @USER @USER haia! Pob hwyl fory hogs. Cofiwch ...   \n",
              "2     0  Loner trwy'r dydd heddiw yn ddiolchgar am cwmm...   \n",
              "3     1  @USER good news, ma'r braid yn cal aros miwn! ...   \n",
              "4     1  @USER Wi'n gobeithio ti'n cael nadolig gwych g...   \n",
              "...  ..                                                ...   \n",
              "9667  1  @USER Ahh scary D: Swni'n ofn mynd mwy na 10mp...   \n",
              "9668  0  Ma'n neud i fi deimlo bach yn sâl mod i rwan w...   \n",
              "9669  0  So ma Bac fi di gal ei ddewis i yrru ffwrdd, gret   \n",
              "9670  1  Bore da a diolch am ein dilyn @USER a @USER! B...   \n",
              "9671  0  @USER hia, mae'ch cyfrif yn breifat, methu ail...   \n",
              "\n",
              "                                                      2  \n",
              "0     @user @user nos sadwrn dwi fyd, rudimental a e...  \n",
              "1     @user @user haia! pob hwyl fory hogs. cofiwch ...  \n",
              "2     loner trwy'r dydd heddiw yn ddiolchgar am cwmm...  \n",
              "3     @user good news, ma'r braid yn cal aros miwn! ...  \n",
              "4     @user wi'n gobeithio ti'n cael nadolig gwych g...  \n",
              "...                                                 ...  \n",
              "9667  @user ahh scary d: swni'n ofn mynd mwy na 10mp...  \n",
              "9668  ma'n neud i fi deimlo bach yn sâl mod i rwan w...  \n",
              "9669  so ma bac fi di gal ei ddewis i yrru ffwrdd, gret  \n",
              "9670  bore da a diolch am ein dilyn @user a @user! b...  \n",
              "9671  @user hia, mae'ch cyfrif yn breifat, methu ail...  \n",
              "\n",
              "[9672 rows x 3 columns]"
            ],
            "text/html": [
              "\n",
              "  <div id=\"df-004ba145-85de-46cf-bf6b-40e1c96dbafe\">\n",
              "    <div class=\"colab-df-container\">\n",
              "      <div>\n",
              "<style scoped>\n",
              "    .dataframe tbody tr th:only-of-type {\n",
              "        vertical-align: middle;\n",
              "    }\n",
              "\n",
              "    .dataframe tbody tr th {\n",
              "        vertical-align: top;\n",
              "    }\n",
              "\n",
              "    .dataframe thead th {\n",
              "        text-align: right;\n",
              "    }\n",
              "</style>\n",
              "<table border=\"1\" class=\"dataframe\">\n",
              "  <thead>\n",
              "    <tr style=\"text-align: right;\">\n",
              "      <th></th>\n",
              "      <th>0</th>\n",
              "      <th>1</th>\n",
              "      <th>2</th>\n",
              "    </tr>\n",
              "  </thead>\n",
              "  <tbody>\n",
              "    <tr>\n",
              "      <th>0</th>\n",
              "      <td>0</td>\n",
              "      <td>@USER @USER nos sadwrn dwi fyd, rudimental a e...</td>\n",
              "      <td>@user @user nos sadwrn dwi fyd, rudimental a e...</td>\n",
              "    </tr>\n",
              "    <tr>\n",
              "      <th>1</th>\n",
              "      <td>1</td>\n",
              "      <td>@USER @USER haia! Pob hwyl fory hogs. Cofiwch ...</td>\n",
              "      <td>@user @user haia! pob hwyl fory hogs. cofiwch ...</td>\n",
              "    </tr>\n",
              "    <tr>\n",
              "      <th>2</th>\n",
              "      <td>0</td>\n",
              "      <td>Loner trwy'r dydd heddiw yn ddiolchgar am cwmm...</td>\n",
              "      <td>loner trwy'r dydd heddiw yn ddiolchgar am cwmm...</td>\n",
              "    </tr>\n",
              "    <tr>\n",
              "      <th>3</th>\n",
              "      <td>1</td>\n",
              "      <td>@USER good news, ma'r braid yn cal aros miwn! ...</td>\n",
              "      <td>@user good news, ma'r braid yn cal aros miwn! ...</td>\n",
              "    </tr>\n",
              "    <tr>\n",
              "      <th>4</th>\n",
              "      <td>1</td>\n",
              "      <td>@USER Wi'n gobeithio ti'n cael nadolig gwych g...</td>\n",
              "      <td>@user wi'n gobeithio ti'n cael nadolig gwych g...</td>\n",
              "    </tr>\n",
              "    <tr>\n",
              "      <th>...</th>\n",
              "      <td>...</td>\n",
              "      <td>...</td>\n",
              "      <td>...</td>\n",
              "    </tr>\n",
              "    <tr>\n",
              "      <th>9667</th>\n",
              "      <td>1</td>\n",
              "      <td>@USER Ahh scary D: Swni'n ofn mynd mwy na 10mp...</td>\n",
              "      <td>@user ahh scary d: swni'n ofn mynd mwy na 10mp...</td>\n",
              "    </tr>\n",
              "    <tr>\n",
              "      <th>9668</th>\n",
              "      <td>0</td>\n",
              "      <td>Ma'n neud i fi deimlo bach yn sâl mod i rwan w...</td>\n",
              "      <td>ma'n neud i fi deimlo bach yn sâl mod i rwan w...</td>\n",
              "    </tr>\n",
              "    <tr>\n",
              "      <th>9669</th>\n",
              "      <td>0</td>\n",
              "      <td>So ma Bac fi di gal ei ddewis i yrru ffwrdd, gret</td>\n",
              "      <td>so ma bac fi di gal ei ddewis i yrru ffwrdd, gret</td>\n",
              "    </tr>\n",
              "    <tr>\n",
              "      <th>9670</th>\n",
              "      <td>1</td>\n",
              "      <td>Bore da a diolch am ein dilyn @USER a @USER! B...</td>\n",
              "      <td>bore da a diolch am ein dilyn @user a @user! b...</td>\n",
              "    </tr>\n",
              "    <tr>\n",
              "      <th>9671</th>\n",
              "      <td>0</td>\n",
              "      <td>@USER hia, mae'ch cyfrif yn breifat, methu ail...</td>\n",
              "      <td>@user hia, mae'ch cyfrif yn breifat, methu ail...</td>\n",
              "    </tr>\n",
              "  </tbody>\n",
              "</table>\n",
              "<p>9672 rows × 3 columns</p>\n",
              "</div>\n",
              "      <button class=\"colab-df-convert\" onclick=\"convertToInteractive('df-004ba145-85de-46cf-bf6b-40e1c96dbafe')\"\n",
              "              title=\"Convert this dataframe to an interactive table.\"\n",
              "              style=\"display:none;\">\n",
              "        \n",
              "  <svg xmlns=\"http://www.w3.org/2000/svg\" height=\"24px\"viewBox=\"0 0 24 24\"\n",
              "       width=\"24px\">\n",
              "    <path d=\"M0 0h24v24H0V0z\" fill=\"none\"/>\n",
              "    <path d=\"M18.56 5.44l.94 2.06.94-2.06 2.06-.94-2.06-.94-.94-2.06-.94 2.06-2.06.94zm-11 1L8.5 8.5l.94-2.06 2.06-.94-2.06-.94L8.5 2.5l-.94 2.06-2.06.94zm10 10l.94 2.06.94-2.06 2.06-.94-2.06-.94-.94-2.06-.94 2.06-2.06.94z\"/><path d=\"M17.41 7.96l-1.37-1.37c-.4-.4-.92-.59-1.43-.59-.52 0-1.04.2-1.43.59L10.3 9.45l-7.72 7.72c-.78.78-.78 2.05 0 2.83L4 21.41c.39.39.9.59 1.41.59.51 0 1.02-.2 1.41-.59l7.78-7.78 2.81-2.81c.8-.78.8-2.07 0-2.86zM5.41 20L4 18.59l7.72-7.72 1.47 1.35L5.41 20z\"/>\n",
              "  </svg>\n",
              "      </button>\n",
              "      \n",
              "  <style>\n",
              "    .colab-df-container {\n",
              "      display:flex;\n",
              "      flex-wrap:wrap;\n",
              "      gap: 12px;\n",
              "    }\n",
              "\n",
              "    .colab-df-convert {\n",
              "      background-color: #E8F0FE;\n",
              "      border: none;\n",
              "      border-radius: 50%;\n",
              "      cursor: pointer;\n",
              "      display: none;\n",
              "      fill: #1967D2;\n",
              "      height: 32px;\n",
              "      padding: 0 0 0 0;\n",
              "      width: 32px;\n",
              "    }\n",
              "\n",
              "    .colab-df-convert:hover {\n",
              "      background-color: #E2EBFA;\n",
              "      box-shadow: 0px 1px 2px rgba(60, 64, 67, 0.3), 0px 1px 3px 1px rgba(60, 64, 67, 0.15);\n",
              "      fill: #174EA6;\n",
              "    }\n",
              "\n",
              "    [theme=dark] .colab-df-convert {\n",
              "      background-color: #3B4455;\n",
              "      fill: #D2E3FC;\n",
              "    }\n",
              "\n",
              "    [theme=dark] .colab-df-convert:hover {\n",
              "      background-color: #434B5C;\n",
              "      box-shadow: 0px 1px 3px 1px rgba(0, 0, 0, 0.15);\n",
              "      filter: drop-shadow(0px 1px 2px rgba(0, 0, 0, 0.3));\n",
              "      fill: #FFFFFF;\n",
              "    }\n",
              "  </style>\n",
              "\n",
              "      <script>\n",
              "        const buttonEl =\n",
              "          document.querySelector('#df-004ba145-85de-46cf-bf6b-40e1c96dbafe button.colab-df-convert');\n",
              "        buttonEl.style.display =\n",
              "          google.colab.kernel.accessAllowed ? 'block' : 'none';\n",
              "\n",
              "        async function convertToInteractive(key) {\n",
              "          const element = document.querySelector('#df-004ba145-85de-46cf-bf6b-40e1c96dbafe');\n",
              "          const dataTable =\n",
              "            await google.colab.kernel.invokeFunction('convertToInteractive',\n",
              "                                                     [key], {});\n",
              "          if (!dataTable) return;\n",
              "\n",
              "          const docLinkHtml = 'Like what you see? Visit the ' +\n",
              "            '<a target=\"_blank\" href=https://colab.research.google.com/notebooks/data_table.ipynb>data table notebook</a>'\n",
              "            + ' to learn more about interactive tables.';\n",
              "          element.innerHTML = '';\n",
              "          dataTable['output_type'] = 'display_data';\n",
              "          await google.colab.output.renderOutput(dataTable, element);\n",
              "          const docLink = document.createElement('div');\n",
              "          docLink.innerHTML = docLinkHtml;\n",
              "          element.appendChild(docLink);\n",
              "        }\n",
              "      </script>\n",
              "    </div>\n",
              "  </div>\n",
              "  "
            ]
          },
          "metadata": {},
          "execution_count": 753
        }
      ]
    },
    {
      "cell_type": "code",
      "source": [
        "df_clean.columns = ['index','unclean tweets','welsh tweets']\n",
        "dft_clean.columns = ['index','unclean tweets','welsh tweets']"
      ],
      "metadata": {
        "id": "nWg4UOf45Ojz"
      },
      "execution_count": null,
      "outputs": []
    },
    {
      "cell_type": "code",
      "source": [
        "df_final = df_clean.drop('unclean tweets',axis=1)\n",
        "dft_final = dft_clean.drop('unclean tweets',axis=1)"
      ],
      "metadata": {
        "id": "TzndE4Xx52is"
      },
      "execution_count": null,
      "outputs": []
    },
    {
      "cell_type": "code",
      "source": [
        "data = df_final\n",
        "datat = dft_final"
      ],
      "metadata": {
        "id": "qpE0RWpVFO4K"
      },
      "execution_count": null,
      "outputs": []
    },
    {
      "cell_type": "code",
      "source": [
        "# i tried removing special characters(punctuation marks which are listed below) from dataframe\n",
        "data['welsh tweets'] = data['welsh tweets'].str.replace(r\"[!$%&'()*+,-./:;<=>?[\\]^_`{|}~]\", '',regex=True)\n",
        "data\n",
        "# i tried removing special characters from dataframe\n",
        "datat['welsh tweets'] = datat['welsh tweets'].str.replace(r\"[!$%&'()*+,-./:;<=>?[\\]^_`{|}~]\", '',regex=True)\n",
        "datat"
      ],
      "metadata": {
        "colab": {
          "base_uri": "https://localhost:8080/",
          "height": 424
        },
        "id": "tf8xGzd7H3s3",
        "outputId": "553f9858-0a2e-4bb4-cc9e-0fe98ff238a4"
      },
      "execution_count": null,
      "outputs": [
        {
          "output_type": "execute_result",
          "data": {
            "text/plain": [
              "      index                                       welsh tweets\n",
              "0         0  @user @user nos sadwrn dwi fyd rudimental a el...\n",
              "1         1  @user @user haia pob hwyl fory hogs cofiwch we...\n",
              "2         0  loner trwyr dydd heddiw yn ddiolchgar am cwmmn...\n",
              "3         1  @user good news mar braid yn cal aros miwn hah...\n",
              "4         1  @user win gobeithio tin cael nadolig gwych gyd...\n",
              "...     ...                                                ...\n",
              "9667      1  @user ahh scary d swnin ofn mynd mwy na 10mph ...\n",
              "9668      0  man neud i fi deimlo bach yn sâl mod i rwan we...\n",
              "9669      0   so ma bac fi di gal ei ddewis i yrru ffwrdd gret\n",
              "9670      1  bore da a diolch am ein dilyn @user a @user bw...\n",
              "9671      0  @user hia maech cyfrif yn breifat methu ail dr...\n",
              "\n",
              "[9672 rows x 2 columns]"
            ],
            "text/html": [
              "\n",
              "  <div id=\"df-374afe40-607d-4558-b4bc-1aa8a1840f42\">\n",
              "    <div class=\"colab-df-container\">\n",
              "      <div>\n",
              "<style scoped>\n",
              "    .dataframe tbody tr th:only-of-type {\n",
              "        vertical-align: middle;\n",
              "    }\n",
              "\n",
              "    .dataframe tbody tr th {\n",
              "        vertical-align: top;\n",
              "    }\n",
              "\n",
              "    .dataframe thead th {\n",
              "        text-align: right;\n",
              "    }\n",
              "</style>\n",
              "<table border=\"1\" class=\"dataframe\">\n",
              "  <thead>\n",
              "    <tr style=\"text-align: right;\">\n",
              "      <th></th>\n",
              "      <th>index</th>\n",
              "      <th>welsh tweets</th>\n",
              "    </tr>\n",
              "  </thead>\n",
              "  <tbody>\n",
              "    <tr>\n",
              "      <th>0</th>\n",
              "      <td>0</td>\n",
              "      <td>@user @user nos sadwrn dwi fyd rudimental a el...</td>\n",
              "    </tr>\n",
              "    <tr>\n",
              "      <th>1</th>\n",
              "      <td>1</td>\n",
              "      <td>@user @user haia pob hwyl fory hogs cofiwch we...</td>\n",
              "    </tr>\n",
              "    <tr>\n",
              "      <th>2</th>\n",
              "      <td>0</td>\n",
              "      <td>loner trwyr dydd heddiw yn ddiolchgar am cwmmn...</td>\n",
              "    </tr>\n",
              "    <tr>\n",
              "      <th>3</th>\n",
              "      <td>1</td>\n",
              "      <td>@user good news mar braid yn cal aros miwn hah...</td>\n",
              "    </tr>\n",
              "    <tr>\n",
              "      <th>4</th>\n",
              "      <td>1</td>\n",
              "      <td>@user win gobeithio tin cael nadolig gwych gyd...</td>\n",
              "    </tr>\n",
              "    <tr>\n",
              "      <th>...</th>\n",
              "      <td>...</td>\n",
              "      <td>...</td>\n",
              "    </tr>\n",
              "    <tr>\n",
              "      <th>9667</th>\n",
              "      <td>1</td>\n",
              "      <td>@user ahh scary d swnin ofn mynd mwy na 10mph ...</td>\n",
              "    </tr>\n",
              "    <tr>\n",
              "      <th>9668</th>\n",
              "      <td>0</td>\n",
              "      <td>man neud i fi deimlo bach yn sâl mod i rwan we...</td>\n",
              "    </tr>\n",
              "    <tr>\n",
              "      <th>9669</th>\n",
              "      <td>0</td>\n",
              "      <td>so ma bac fi di gal ei ddewis i yrru ffwrdd gret</td>\n",
              "    </tr>\n",
              "    <tr>\n",
              "      <th>9670</th>\n",
              "      <td>1</td>\n",
              "      <td>bore da a diolch am ein dilyn @user a @user bw...</td>\n",
              "    </tr>\n",
              "    <tr>\n",
              "      <th>9671</th>\n",
              "      <td>0</td>\n",
              "      <td>@user hia maech cyfrif yn breifat methu ail dr...</td>\n",
              "    </tr>\n",
              "  </tbody>\n",
              "</table>\n",
              "<p>9672 rows × 2 columns</p>\n",
              "</div>\n",
              "      <button class=\"colab-df-convert\" onclick=\"convertToInteractive('df-374afe40-607d-4558-b4bc-1aa8a1840f42')\"\n",
              "              title=\"Convert this dataframe to an interactive table.\"\n",
              "              style=\"display:none;\">\n",
              "        \n",
              "  <svg xmlns=\"http://www.w3.org/2000/svg\" height=\"24px\"viewBox=\"0 0 24 24\"\n",
              "       width=\"24px\">\n",
              "    <path d=\"M0 0h24v24H0V0z\" fill=\"none\"/>\n",
              "    <path d=\"M18.56 5.44l.94 2.06.94-2.06 2.06-.94-2.06-.94-.94-2.06-.94 2.06-2.06.94zm-11 1L8.5 8.5l.94-2.06 2.06-.94-2.06-.94L8.5 2.5l-.94 2.06-2.06.94zm10 10l.94 2.06.94-2.06 2.06-.94-2.06-.94-.94-2.06-.94 2.06-2.06.94z\"/><path d=\"M17.41 7.96l-1.37-1.37c-.4-.4-.92-.59-1.43-.59-.52 0-1.04.2-1.43.59L10.3 9.45l-7.72 7.72c-.78.78-.78 2.05 0 2.83L4 21.41c.39.39.9.59 1.41.59.51 0 1.02-.2 1.41-.59l7.78-7.78 2.81-2.81c.8-.78.8-2.07 0-2.86zM5.41 20L4 18.59l7.72-7.72 1.47 1.35L5.41 20z\"/>\n",
              "  </svg>\n",
              "      </button>\n",
              "      \n",
              "  <style>\n",
              "    .colab-df-container {\n",
              "      display:flex;\n",
              "      flex-wrap:wrap;\n",
              "      gap: 12px;\n",
              "    }\n",
              "\n",
              "    .colab-df-convert {\n",
              "      background-color: #E8F0FE;\n",
              "      border: none;\n",
              "      border-radius: 50%;\n",
              "      cursor: pointer;\n",
              "      display: none;\n",
              "      fill: #1967D2;\n",
              "      height: 32px;\n",
              "      padding: 0 0 0 0;\n",
              "      width: 32px;\n",
              "    }\n",
              "\n",
              "    .colab-df-convert:hover {\n",
              "      background-color: #E2EBFA;\n",
              "      box-shadow: 0px 1px 2px rgba(60, 64, 67, 0.3), 0px 1px 3px 1px rgba(60, 64, 67, 0.15);\n",
              "      fill: #174EA6;\n",
              "    }\n",
              "\n",
              "    [theme=dark] .colab-df-convert {\n",
              "      background-color: #3B4455;\n",
              "      fill: #D2E3FC;\n",
              "    }\n",
              "\n",
              "    [theme=dark] .colab-df-convert:hover {\n",
              "      background-color: #434B5C;\n",
              "      box-shadow: 0px 1px 3px 1px rgba(0, 0, 0, 0.15);\n",
              "      filter: drop-shadow(0px 1px 2px rgba(0, 0, 0, 0.3));\n",
              "      fill: #FFFFFF;\n",
              "    }\n",
              "  </style>\n",
              "\n",
              "      <script>\n",
              "        const buttonEl =\n",
              "          document.querySelector('#df-374afe40-607d-4558-b4bc-1aa8a1840f42 button.colab-df-convert');\n",
              "        buttonEl.style.display =\n",
              "          google.colab.kernel.accessAllowed ? 'block' : 'none';\n",
              "\n",
              "        async function convertToInteractive(key) {\n",
              "          const element = document.querySelector('#df-374afe40-607d-4558-b4bc-1aa8a1840f42');\n",
              "          const dataTable =\n",
              "            await google.colab.kernel.invokeFunction('convertToInteractive',\n",
              "                                                     [key], {});\n",
              "          if (!dataTable) return;\n",
              "\n",
              "          const docLinkHtml = 'Like what you see? Visit the ' +\n",
              "            '<a target=\"_blank\" href=https://colab.research.google.com/notebooks/data_table.ipynb>data table notebook</a>'\n",
              "            + ' to learn more about interactive tables.';\n",
              "          element.innerHTML = '';\n",
              "          dataTable['output_type'] = 'display_data';\n",
              "          await google.colab.output.renderOutput(dataTable, element);\n",
              "          const docLink = document.createElement('div');\n",
              "          docLink.innerHTML = docLinkHtml;\n",
              "          element.appendChild(docLink);\n",
              "        }\n",
              "      </script>\n",
              "    </div>\n",
              "  </div>\n",
              "  "
            ]
          },
          "metadata": {},
          "execution_count": 757
        }
      ]
    },
    {
      "cell_type": "code",
      "source": [
        "# # tried removing @USER\n",
        "data['welsh tweets'] = data['welsh tweets'].str.replace(r'@user', '')"
      ],
      "metadata": {
        "id": "24vpw__neWsB"
      },
      "execution_count": null,
      "outputs": []
    },
    {
      "cell_type": "code",
      "source": [
        "# # tried removing @USER\n",
        "datat['welsh tweets'] = datat['welsh tweets'].str.replace(r'@user', '')"
      ],
      "metadata": {
        "id": "FBEy8lrGR3Lc"
      },
      "execution_count": null,
      "outputs": []
    },
    {
      "cell_type": "code",
      "source": [
        "# # tried removing URL\n",
        "data['welsh tweets'] = data['welsh tweets'].str.replace(r'url', '')"
      ],
      "metadata": {
        "id": "vD4M8NWMfM63"
      },
      "execution_count": null,
      "outputs": []
    },
    {
      "cell_type": "code",
      "source": [
        "# # tried removing URL\n",
        "datat['welsh tweets'] = datat['welsh tweets'].str.replace(r'url', '')"
      ],
      "metadata": {
        "id": "KCjCxFL3R400"
      },
      "execution_count": null,
      "outputs": []
    },
    {
      "cell_type": "code",
      "source": [
        "# tried dropping duplicate elements\n",
        "# df_final = df_final.drop_duplicates()\n",
        "# df_final"
      ],
      "metadata": {
        "id": "wNiPnueYscLv"
      },
      "execution_count": null,
      "outputs": []
    },
    {
      "cell_type": "code",
      "source": [
        "data_final = data.drop_duplicates()\n",
        "data_final"
      ],
      "metadata": {
        "colab": {
          "base_uri": "https://localhost:8080/",
          "height": 424
        },
        "id": "OmIQkObmKHPI",
        "outputId": "f29af90d-cd44-44f1-996e-32704649274a"
      },
      "execution_count": null,
      "outputs": [
        {
          "output_type": "execute_result",
          "data": {
            "text/plain": [
              "       index                                       welsh tweets\n",
              "0          0    a sicrhau bod mwy o arian poced da ti nes i ...\n",
              "1          1  parti dolig da gyda tim swyddfa canolog  ty gw...\n",
              "2          0                        yeaah ma fe yn wir  oh well\n",
              "3          1                       hahaha idk 3am oedd y bws ti\n",
              "4          0                             dwim yn gal llun ohoni\n",
              "...      ...                                                ...\n",
              "78604      1    diolch yn fawr am ein diweddaru rôn in amau ...\n",
              "78605      1                      diolch digon o opsiynne felly\n",
              "78606      0                    mor hungover heddiw waterpistol\n",
              "78607      1   eidiaaaal awni dydd llun nesa ia y airoplane ...\n",
              "78608      0   ahaha aino maisho mynadd erm o be dwin wbod i...\n",
              "\n",
              "[77888 rows x 2 columns]"
            ],
            "text/html": [
              "\n",
              "  <div id=\"df-e512c49c-7252-4041-bb5a-df0f2ee5fa47\">\n",
              "    <div class=\"colab-df-container\">\n",
              "      <div>\n",
              "<style scoped>\n",
              "    .dataframe tbody tr th:only-of-type {\n",
              "        vertical-align: middle;\n",
              "    }\n",
              "\n",
              "    .dataframe tbody tr th {\n",
              "        vertical-align: top;\n",
              "    }\n",
              "\n",
              "    .dataframe thead th {\n",
              "        text-align: right;\n",
              "    }\n",
              "</style>\n",
              "<table border=\"1\" class=\"dataframe\">\n",
              "  <thead>\n",
              "    <tr style=\"text-align: right;\">\n",
              "      <th></th>\n",
              "      <th>index</th>\n",
              "      <th>welsh tweets</th>\n",
              "    </tr>\n",
              "  </thead>\n",
              "  <tbody>\n",
              "    <tr>\n",
              "      <th>0</th>\n",
              "      <td>0</td>\n",
              "      <td>a sicrhau bod mwy o arian poced da ti nes i ...</td>\n",
              "    </tr>\n",
              "    <tr>\n",
              "      <th>1</th>\n",
              "      <td>1</td>\n",
              "      <td>parti dolig da gyda tim swyddfa canolog  ty gw...</td>\n",
              "    </tr>\n",
              "    <tr>\n",
              "      <th>2</th>\n",
              "      <td>0</td>\n",
              "      <td>yeaah ma fe yn wir  oh well</td>\n",
              "    </tr>\n",
              "    <tr>\n",
              "      <th>3</th>\n",
              "      <td>1</td>\n",
              "      <td>hahaha idk 3am oedd y bws ti</td>\n",
              "    </tr>\n",
              "    <tr>\n",
              "      <th>4</th>\n",
              "      <td>0</td>\n",
              "      <td>dwim yn gal llun ohoni</td>\n",
              "    </tr>\n",
              "    <tr>\n",
              "      <th>...</th>\n",
              "      <td>...</td>\n",
              "      <td>...</td>\n",
              "    </tr>\n",
              "    <tr>\n",
              "      <th>78604</th>\n",
              "      <td>1</td>\n",
              "      <td>diolch yn fawr am ein diweddaru rôn in amau ...</td>\n",
              "    </tr>\n",
              "    <tr>\n",
              "      <th>78605</th>\n",
              "      <td>1</td>\n",
              "      <td>diolch digon o opsiynne felly</td>\n",
              "    </tr>\n",
              "    <tr>\n",
              "      <th>78606</th>\n",
              "      <td>0</td>\n",
              "      <td>mor hungover heddiw waterpistol</td>\n",
              "    </tr>\n",
              "    <tr>\n",
              "      <th>78607</th>\n",
              "      <td>1</td>\n",
              "      <td>eidiaaaal awni dydd llun nesa ia y airoplane ...</td>\n",
              "    </tr>\n",
              "    <tr>\n",
              "      <th>78608</th>\n",
              "      <td>0</td>\n",
              "      <td>ahaha aino maisho mynadd erm o be dwin wbod i...</td>\n",
              "    </tr>\n",
              "  </tbody>\n",
              "</table>\n",
              "<p>77888 rows × 2 columns</p>\n",
              "</div>\n",
              "      <button class=\"colab-df-convert\" onclick=\"convertToInteractive('df-e512c49c-7252-4041-bb5a-df0f2ee5fa47')\"\n",
              "              title=\"Convert this dataframe to an interactive table.\"\n",
              "              style=\"display:none;\">\n",
              "        \n",
              "  <svg xmlns=\"http://www.w3.org/2000/svg\" height=\"24px\"viewBox=\"0 0 24 24\"\n",
              "       width=\"24px\">\n",
              "    <path d=\"M0 0h24v24H0V0z\" fill=\"none\"/>\n",
              "    <path d=\"M18.56 5.44l.94 2.06.94-2.06 2.06-.94-2.06-.94-.94-2.06-.94 2.06-2.06.94zm-11 1L8.5 8.5l.94-2.06 2.06-.94-2.06-.94L8.5 2.5l-.94 2.06-2.06.94zm10 10l.94 2.06.94-2.06 2.06-.94-2.06-.94-.94-2.06-.94 2.06-2.06.94z\"/><path d=\"M17.41 7.96l-1.37-1.37c-.4-.4-.92-.59-1.43-.59-.52 0-1.04.2-1.43.59L10.3 9.45l-7.72 7.72c-.78.78-.78 2.05 0 2.83L4 21.41c.39.39.9.59 1.41.59.51 0 1.02-.2 1.41-.59l7.78-7.78 2.81-2.81c.8-.78.8-2.07 0-2.86zM5.41 20L4 18.59l7.72-7.72 1.47 1.35L5.41 20z\"/>\n",
              "  </svg>\n",
              "      </button>\n",
              "      \n",
              "  <style>\n",
              "    .colab-df-container {\n",
              "      display:flex;\n",
              "      flex-wrap:wrap;\n",
              "      gap: 12px;\n",
              "    }\n",
              "\n",
              "    .colab-df-convert {\n",
              "      background-color: #E8F0FE;\n",
              "      border: none;\n",
              "      border-radius: 50%;\n",
              "      cursor: pointer;\n",
              "      display: none;\n",
              "      fill: #1967D2;\n",
              "      height: 32px;\n",
              "      padding: 0 0 0 0;\n",
              "      width: 32px;\n",
              "    }\n",
              "\n",
              "    .colab-df-convert:hover {\n",
              "      background-color: #E2EBFA;\n",
              "      box-shadow: 0px 1px 2px rgba(60, 64, 67, 0.3), 0px 1px 3px 1px rgba(60, 64, 67, 0.15);\n",
              "      fill: #174EA6;\n",
              "    }\n",
              "\n",
              "    [theme=dark] .colab-df-convert {\n",
              "      background-color: #3B4455;\n",
              "      fill: #D2E3FC;\n",
              "    }\n",
              "\n",
              "    [theme=dark] .colab-df-convert:hover {\n",
              "      background-color: #434B5C;\n",
              "      box-shadow: 0px 1px 3px 1px rgba(0, 0, 0, 0.15);\n",
              "      filter: drop-shadow(0px 1px 2px rgba(0, 0, 0, 0.3));\n",
              "      fill: #FFFFFF;\n",
              "    }\n",
              "  </style>\n",
              "\n",
              "      <script>\n",
              "        const buttonEl =\n",
              "          document.querySelector('#df-e512c49c-7252-4041-bb5a-df0f2ee5fa47 button.colab-df-convert');\n",
              "        buttonEl.style.display =\n",
              "          google.colab.kernel.accessAllowed ? 'block' : 'none';\n",
              "\n",
              "        async function convertToInteractive(key) {\n",
              "          const element = document.querySelector('#df-e512c49c-7252-4041-bb5a-df0f2ee5fa47');\n",
              "          const dataTable =\n",
              "            await google.colab.kernel.invokeFunction('convertToInteractive',\n",
              "                                                     [key], {});\n",
              "          if (!dataTable) return;\n",
              "\n",
              "          const docLinkHtml = 'Like what you see? Visit the ' +\n",
              "            '<a target=\"_blank\" href=https://colab.research.google.com/notebooks/data_table.ipynb>data table notebook</a>'\n",
              "            + ' to learn more about interactive tables.';\n",
              "          element.innerHTML = '';\n",
              "          dataTable['output_type'] = 'display_data';\n",
              "          await google.colab.output.renderOutput(dataTable, element);\n",
              "          const docLink = document.createElement('div');\n",
              "          docLink.innerHTML = docLinkHtml;\n",
              "          element.appendChild(docLink);\n",
              "        }\n",
              "      </script>\n",
              "    </div>\n",
              "  </div>\n",
              "  "
            ]
          },
          "metadata": {},
          "execution_count": 763
        }
      ]
    },
    {
      "cell_type": "code",
      "source": [
        "datat_final = datat.drop_duplicates()\n",
        "datat_final"
      ],
      "metadata": {
        "colab": {
          "base_uri": "https://localhost:8080/",
          "height": 424
        },
        "id": "IvlZP9--3j00",
        "outputId": "51e65d7a-fd76-4f5e-d817-bef4de392f57"
      },
      "execution_count": null,
      "outputs": [
        {
          "output_type": "execute_result",
          "data": {
            "text/plain": [
              "      index                                       welsh tweets\n",
              "0         0    nos sadwrn dwi fyd rudimental a ella yn supp...\n",
              "1         1    haia pob hwyl fory hogs cofiwch wenu welai c...\n",
              "2         0  loner trwyr dydd heddiw yn ddiolchgar am cwmmn...\n",
              "3         1   good news mar braid yn cal aros miwn haha dwi...\n",
              "4         1   win gobeithio tin cael nadolig gwych gyda eic...\n",
              "...     ...                                                ...\n",
              "9667      1   ahh scary d swnin ofn mynd mwy na 10mph aye d...\n",
              "9668      0  man neud i fi deimlo bach yn sâl mod i rwan we...\n",
              "9669      0   so ma bac fi di gal ei ddewis i yrru ffwrdd gret\n",
              "9670      1  bore da a diolch am ein dilyn  a  bwrw golwg a...\n",
              "9671      0       hia maech cyfrif yn breifat methu ail drydar\n",
              "\n",
              "[9642 rows x 2 columns]"
            ],
            "text/html": [
              "\n",
              "  <div id=\"df-b1543b8c-cbe7-4ef3-91ae-40586638040f\">\n",
              "    <div class=\"colab-df-container\">\n",
              "      <div>\n",
              "<style scoped>\n",
              "    .dataframe tbody tr th:only-of-type {\n",
              "        vertical-align: middle;\n",
              "    }\n",
              "\n",
              "    .dataframe tbody tr th {\n",
              "        vertical-align: top;\n",
              "    }\n",
              "\n",
              "    .dataframe thead th {\n",
              "        text-align: right;\n",
              "    }\n",
              "</style>\n",
              "<table border=\"1\" class=\"dataframe\">\n",
              "  <thead>\n",
              "    <tr style=\"text-align: right;\">\n",
              "      <th></th>\n",
              "      <th>index</th>\n",
              "      <th>welsh tweets</th>\n",
              "    </tr>\n",
              "  </thead>\n",
              "  <tbody>\n",
              "    <tr>\n",
              "      <th>0</th>\n",
              "      <td>0</td>\n",
              "      <td>nos sadwrn dwi fyd rudimental a ella yn supp...</td>\n",
              "    </tr>\n",
              "    <tr>\n",
              "      <th>1</th>\n",
              "      <td>1</td>\n",
              "      <td>haia pob hwyl fory hogs cofiwch wenu welai c...</td>\n",
              "    </tr>\n",
              "    <tr>\n",
              "      <th>2</th>\n",
              "      <td>0</td>\n",
              "      <td>loner trwyr dydd heddiw yn ddiolchgar am cwmmn...</td>\n",
              "    </tr>\n",
              "    <tr>\n",
              "      <th>3</th>\n",
              "      <td>1</td>\n",
              "      <td>good news mar braid yn cal aros miwn haha dwi...</td>\n",
              "    </tr>\n",
              "    <tr>\n",
              "      <th>4</th>\n",
              "      <td>1</td>\n",
              "      <td>win gobeithio tin cael nadolig gwych gyda eic...</td>\n",
              "    </tr>\n",
              "    <tr>\n",
              "      <th>...</th>\n",
              "      <td>...</td>\n",
              "      <td>...</td>\n",
              "    </tr>\n",
              "    <tr>\n",
              "      <th>9667</th>\n",
              "      <td>1</td>\n",
              "      <td>ahh scary d swnin ofn mynd mwy na 10mph aye d...</td>\n",
              "    </tr>\n",
              "    <tr>\n",
              "      <th>9668</th>\n",
              "      <td>0</td>\n",
              "      <td>man neud i fi deimlo bach yn sâl mod i rwan we...</td>\n",
              "    </tr>\n",
              "    <tr>\n",
              "      <th>9669</th>\n",
              "      <td>0</td>\n",
              "      <td>so ma bac fi di gal ei ddewis i yrru ffwrdd gret</td>\n",
              "    </tr>\n",
              "    <tr>\n",
              "      <th>9670</th>\n",
              "      <td>1</td>\n",
              "      <td>bore da a diolch am ein dilyn  a  bwrw golwg a...</td>\n",
              "    </tr>\n",
              "    <tr>\n",
              "      <th>9671</th>\n",
              "      <td>0</td>\n",
              "      <td>hia maech cyfrif yn breifat methu ail drydar</td>\n",
              "    </tr>\n",
              "  </tbody>\n",
              "</table>\n",
              "<p>9642 rows × 2 columns</p>\n",
              "</div>\n",
              "      <button class=\"colab-df-convert\" onclick=\"convertToInteractive('df-b1543b8c-cbe7-4ef3-91ae-40586638040f')\"\n",
              "              title=\"Convert this dataframe to an interactive table.\"\n",
              "              style=\"display:none;\">\n",
              "        \n",
              "  <svg xmlns=\"http://www.w3.org/2000/svg\" height=\"24px\"viewBox=\"0 0 24 24\"\n",
              "       width=\"24px\">\n",
              "    <path d=\"M0 0h24v24H0V0z\" fill=\"none\"/>\n",
              "    <path d=\"M18.56 5.44l.94 2.06.94-2.06 2.06-.94-2.06-.94-.94-2.06-.94 2.06-2.06.94zm-11 1L8.5 8.5l.94-2.06 2.06-.94-2.06-.94L8.5 2.5l-.94 2.06-2.06.94zm10 10l.94 2.06.94-2.06 2.06-.94-2.06-.94-.94-2.06-.94 2.06-2.06.94z\"/><path d=\"M17.41 7.96l-1.37-1.37c-.4-.4-.92-.59-1.43-.59-.52 0-1.04.2-1.43.59L10.3 9.45l-7.72 7.72c-.78.78-.78 2.05 0 2.83L4 21.41c.39.39.9.59 1.41.59.51 0 1.02-.2 1.41-.59l7.78-7.78 2.81-2.81c.8-.78.8-2.07 0-2.86zM5.41 20L4 18.59l7.72-7.72 1.47 1.35L5.41 20z\"/>\n",
              "  </svg>\n",
              "      </button>\n",
              "      \n",
              "  <style>\n",
              "    .colab-df-container {\n",
              "      display:flex;\n",
              "      flex-wrap:wrap;\n",
              "      gap: 12px;\n",
              "    }\n",
              "\n",
              "    .colab-df-convert {\n",
              "      background-color: #E8F0FE;\n",
              "      border: none;\n",
              "      border-radius: 50%;\n",
              "      cursor: pointer;\n",
              "      display: none;\n",
              "      fill: #1967D2;\n",
              "      height: 32px;\n",
              "      padding: 0 0 0 0;\n",
              "      width: 32px;\n",
              "    }\n",
              "\n",
              "    .colab-df-convert:hover {\n",
              "      background-color: #E2EBFA;\n",
              "      box-shadow: 0px 1px 2px rgba(60, 64, 67, 0.3), 0px 1px 3px 1px rgba(60, 64, 67, 0.15);\n",
              "      fill: #174EA6;\n",
              "    }\n",
              "\n",
              "    [theme=dark] .colab-df-convert {\n",
              "      background-color: #3B4455;\n",
              "      fill: #D2E3FC;\n",
              "    }\n",
              "\n",
              "    [theme=dark] .colab-df-convert:hover {\n",
              "      background-color: #434B5C;\n",
              "      box-shadow: 0px 1px 3px 1px rgba(0, 0, 0, 0.15);\n",
              "      filter: drop-shadow(0px 1px 2px rgba(0, 0, 0, 0.3));\n",
              "      fill: #FFFFFF;\n",
              "    }\n",
              "  </style>\n",
              "\n",
              "      <script>\n",
              "        const buttonEl =\n",
              "          document.querySelector('#df-b1543b8c-cbe7-4ef3-91ae-40586638040f button.colab-df-convert');\n",
              "        buttonEl.style.display =\n",
              "          google.colab.kernel.accessAllowed ? 'block' : 'none';\n",
              "\n",
              "        async function convertToInteractive(key) {\n",
              "          const element = document.querySelector('#df-b1543b8c-cbe7-4ef3-91ae-40586638040f');\n",
              "          const dataTable =\n",
              "            await google.colab.kernel.invokeFunction('convertToInteractive',\n",
              "                                                     [key], {});\n",
              "          if (!dataTable) return;\n",
              "\n",
              "          const docLinkHtml = 'Like what you see? Visit the ' +\n",
              "            '<a target=\"_blank\" href=https://colab.research.google.com/notebooks/data_table.ipynb>data table notebook</a>'\n",
              "            + ' to learn more about interactive tables.';\n",
              "          element.innerHTML = '';\n",
              "          dataTable['output_type'] = 'display_data';\n",
              "          await google.colab.output.renderOutput(dataTable, element);\n",
              "          const docLink = document.createElement('div');\n",
              "          docLink.innerHTML = docLinkHtml;\n",
              "          element.appendChild(docLink);\n",
              "        }\n",
              "      </script>\n",
              "    </div>\n",
              "  </div>\n",
              "  "
            ]
          },
          "metadata": {},
          "execution_count": 764
        }
      ]
    },
    {
      "cell_type": "code",
      "source": [
        "# train set\n",
        "vectorizer = CountVectorizer(min_df=2,stop_words=stopwords,max_features=2000,ngram_range=(1,2))\n",
        "features = vectorizer.fit_transform(data_final['welsh tweets'])\n",
        "indexs = data_final['index']"
      ],
      "metadata": {
        "id": "LzqRAJpQfNCI"
      },
      "execution_count": null,
      "outputs": []
    },
    {
      "cell_type": "code",
      "source": [
        "#test set\n",
        "vectorizer = CountVectorizer(min_df=2,stop_words=stopwords,max_features=2000,ngram_range=(1,2))\n",
        "x_test_final = vectorizer.fit_transform(datat_final['welsh tweets'])\n",
        "y_test_final = datat_final['index']"
      ],
      "metadata": {
        "id": "4x69Vf2LejgT"
      },
      "execution_count": null,
      "outputs": []
    },
    {
      "cell_type": "code",
      "source": [
        "# vectorizer = TfidfVectorizer(max_features=2000)\n",
        "# features = vectorizer.fit_transform(df['welsh tweets'])\n",
        "# features"
      ],
      "metadata": {
        "id": "ms-Pq2X1uV4w"
      },
      "execution_count": null,
      "outputs": []
    },
    {
      "cell_type": "code",
      "source": [
        "x_train, x_test, y_train, y_test = train_test_split(features,indexs, test_size=0.1,random_state=666)"
      ],
      "metadata": {
        "id": "pT1dUDBjfNEm"
      },
      "execution_count": null,
      "outputs": []
    },
    {
      "cell_type": "code",
      "source": [
        "naivebayes_bernoulli = BernoulliNB()\n",
        "naivebayes_bernoulli.fit(x_train.toarray(), y_train)"
      ],
      "metadata": {
        "id": "I6yNZDW2fNHB",
        "colab": {
          "base_uri": "https://localhost:8080/"
        },
        "outputId": "a41a95da-7f39-481f-c8a4-ec3940a533b7"
      },
      "execution_count": null,
      "outputs": [
        {
          "output_type": "execute_result",
          "data": {
            "text/plain": [
              "BernoulliNB()"
            ]
          },
          "metadata": {},
          "execution_count": 769
        }
      ]
    },
    {
      "cell_type": "code",
      "source": [
        "naivebayes_multinomial = MultinomialNB()\n",
        "naivebayes_multinomial.fit(x_train.toarray(), y_train)"
      ],
      "metadata": {
        "id": "xumDKnYqnyFY",
        "colab": {
          "base_uri": "https://localhost:8080/"
        },
        "outputId": "e0e75a4b-d852-4954-b909-c4473337f466"
      },
      "execution_count": null,
      "outputs": [
        {
          "output_type": "execute_result",
          "data": {
            "text/plain": [
              "MultinomialNB()"
            ]
          },
          "metadata": {},
          "execution_count": 770
        }
      ]
    },
    {
      "cell_type": "code",
      "source": [
        "lr = LogisticRegression(max_iter=1000)\n",
        "lr.fit(x_train, y_train)"
      ],
      "metadata": {
        "id": "H5BDAXuJr6zy",
        "colab": {
          "base_uri": "https://localhost:8080/"
        },
        "outputId": "9301bc86-bff3-4e26-9836-0fe3469d6971"
      },
      "execution_count": null,
      "outputs": [
        {
          "output_type": "execute_result",
          "data": {
            "text/plain": [
              "LogisticRegression(max_iter=1000)"
            ]
          },
          "metadata": {},
          "execution_count": 771
        }
      ]
    },
    {
      "cell_type": "code",
      "source": [
        "nbbpredict = naivebayes_bernoulli.predict(x_test.toarray())"
      ],
      "metadata": {
        "id": "rLxiIWmlfNJ0"
      },
      "execution_count": null,
      "outputs": []
    },
    {
      "cell_type": "code",
      "source": [
        "nbmpredict = naivebayes_multinomial.predict(x_test.toarray())"
      ],
      "metadata": {
        "id": "Vqk6x6gqn_Fn"
      },
      "execution_count": null,
      "outputs": []
    },
    {
      "cell_type": "code",
      "source": [
        "lrpredict = lr.predict(x_test)"
      ],
      "metadata": {
        "id": "X_kjMElysaOO"
      },
      "execution_count": null,
      "outputs": []
    },
    {
      "cell_type": "code",
      "source": [
        "x_prob = lr.predict_proba(x_test)"
      ],
      "metadata": {
        "id": "CTLJiXA9uv4M"
      },
      "execution_count": null,
      "outputs": []
    },
    {
      "cell_type": "code",
      "source": [
        "##### validation accuracy ########"
      ],
      "metadata": {
        "id": "_3iSyf0F1kZB"
      },
      "execution_count": null,
      "outputs": []
    },
    {
      "cell_type": "code",
      "source": [
        "print(metrics.classification_report(y_test,nbmpredict))"
      ],
      "metadata": {
        "id": "aDZZXhIOoF8V",
        "colab": {
          "base_uri": "https://localhost:8080/"
        },
        "outputId": "b6064625-a051-44e0-929b-d5f1463f50cb"
      },
      "execution_count": null,
      "outputs": [
        {
          "output_type": "stream",
          "name": "stdout",
          "text": [
            "              precision    recall  f1-score   support\n",
            "\n",
            "           0       0.72      0.73      0.72      3953\n",
            "           1       0.71      0.70      0.71      3836\n",
            "\n",
            "    accuracy                           0.72      7789\n",
            "   macro avg       0.72      0.72      0.72      7789\n",
            "weighted avg       0.72      0.72      0.72      7789\n",
            "\n"
          ]
        }
      ]
    },
    {
      "cell_type": "code",
      "source": [
        "print(metrics.classification_report(y_test,nbbpredict))"
      ],
      "metadata": {
        "id": "K8Po7mCCfNMX",
        "colab": {
          "base_uri": "https://localhost:8080/"
        },
        "outputId": "75fe4756-8902-44fb-8f4b-2f8a971767ed"
      },
      "execution_count": null,
      "outputs": [
        {
          "output_type": "stream",
          "name": "stdout",
          "text": [
            "              precision    recall  f1-score   support\n",
            "\n",
            "           0       0.72      0.70      0.71      3953\n",
            "           1       0.70      0.73      0.71      3836\n",
            "\n",
            "    accuracy                           0.71      7789\n",
            "   macro avg       0.71      0.71      0.71      7789\n",
            "weighted avg       0.71      0.71      0.71      7789\n",
            "\n"
          ]
        }
      ]
    },
    {
      "cell_type": "code",
      "source": [
        "from sklearn.metrics import f1_score,recall_score\n",
        "print(metrics.classification_report(y_test,lrpredict))\n",
        "print(roc_auc_score(y_test, x_prob[:, 1]))\n",
        "print(accuracy_score(y_test,lrpredict))\n",
        "print(recall_score(y_test,lrpredict))\n"
      ],
      "metadata": {
        "id": "sSBJodDUfNP0",
        "colab": {
          "base_uri": "https://localhost:8080/"
        },
        "outputId": "4cdf95e7-94bd-48ef-ac82-e4d43e2eeeff"
      },
      "execution_count": null,
      "outputs": [
        {
          "output_type": "stream",
          "name": "stdout",
          "text": [
            "              precision    recall  f1-score   support\n",
            "\n",
            "           0       0.74      0.72      0.73      3953\n",
            "           1       0.72      0.74      0.73      3836\n",
            "\n",
            "    accuracy                           0.73      7789\n",
            "   macro avg       0.73      0.73      0.73      7789\n",
            "weighted avg       0.73      0.73      0.73      7789\n",
            "\n",
            "0.8021720347028576\n",
            "0.7255103350879445\n",
            "0.7356621480709072\n"
          ]
        }
      ]
    },
    {
      "cell_type": "code",
      "source": [
        "########## test set accuracy ###################"
      ],
      "metadata": {
        "id": "G0hI8kStdcta"
      },
      "execution_count": null,
      "outputs": []
    },
    {
      "cell_type": "code",
      "source": [
        "nbbpredict_final = naivebayes_bernoulli.predict(x_test_final.toarray())"
      ],
      "metadata": {
        "id": "q4aIqwbQdjYV"
      },
      "execution_count": null,
      "outputs": []
    },
    {
      "cell_type": "code",
      "source": [
        "print(metrics.classification_report(y_test_final,nbbpredict_final))"
      ],
      "metadata": {
        "colab": {
          "base_uri": "https://localhost:8080/"
        },
        "id": "0z9Q9eBcfTEj",
        "outputId": "fee5d1fa-4752-403f-b03e-80e752e0dc4c"
      },
      "execution_count": null,
      "outputs": [
        {
          "output_type": "stream",
          "name": "stdout",
          "text": [
            "              precision    recall  f1-score   support\n",
            "\n",
            "           0       0.59      0.62      0.60      4917\n",
            "           1       0.58      0.55      0.57      4725\n",
            "\n",
            "    accuracy                           0.59      9642\n",
            "   macro avg       0.59      0.59      0.59      9642\n",
            "weighted avg       0.59      0.59      0.59      9642\n",
            "\n"
          ]
        }
      ]
    },
    {
      "cell_type": "code",
      "source": [
        "nbmpredict_final = naivebayes_multinomial.predict(x_test_final.toarray())"
      ],
      "metadata": {
        "id": "nR5i102Vd00k"
      },
      "execution_count": null,
      "outputs": []
    },
    {
      "cell_type": "code",
      "source": [
        "print(metrics.classification_report(y_test_final,nbmpredict_final))"
      ],
      "metadata": {
        "colab": {
          "base_uri": "https://localhost:8080/"
        },
        "id": "Ma0UuQXRfVA5",
        "outputId": "0628f0b8-6d8b-4973-b886-b18270b96fea"
      },
      "execution_count": null,
      "outputs": [
        {
          "output_type": "stream",
          "name": "stdout",
          "text": [
            "              precision    recall  f1-score   support\n",
            "\n",
            "           0       0.58      0.65      0.62      4917\n",
            "           1       0.59      0.51      0.55      4725\n",
            "\n",
            "    accuracy                           0.58      9642\n",
            "   macro avg       0.58      0.58      0.58      9642\n",
            "weighted avg       0.58      0.58      0.58      9642\n",
            "\n"
          ]
        }
      ]
    },
    {
      "cell_type": "code",
      "source": [
        "lrpredict_final = lr.predict(x_test_final)"
      ],
      "metadata": {
        "id": "ggQg6huqd02r"
      },
      "execution_count": null,
      "outputs": []
    },
    {
      "cell_type": "code",
      "source": [
        "x_test_final"
      ],
      "metadata": {
        "colab": {
          "base_uri": "https://localhost:8080/"
        },
        "id": "37n6GY2QhA_O",
        "outputId": "e4ea4b9b-dfd9-432b-a069-df10029121e2"
      },
      "execution_count": null,
      "outputs": [
        {
          "output_type": "execute_result",
          "data": {
            "text/plain": [
              "<9642x2000 sparse matrix of type '<class 'numpy.int64'>'\n",
              "\twith 69891 stored elements in Compressed Sparse Row format>"
            ]
          },
          "metadata": {},
          "execution_count": 786
        }
      ]
    },
    {
      "cell_type": "code",
      "source": [
        "y_test_final"
      ],
      "metadata": {
        "colab": {
          "base_uri": "https://localhost:8080/"
        },
        "id": "JIBY0RSthF97",
        "outputId": "493b8691-a1c7-4180-e030-bdd24c9cc3c1"
      },
      "execution_count": null,
      "outputs": [
        {
          "output_type": "execute_result",
          "data": {
            "text/plain": [
              "0       0\n",
              "1       1\n",
              "2       0\n",
              "3       1\n",
              "4       1\n",
              "       ..\n",
              "9667    1\n",
              "9668    0\n",
              "9669    0\n",
              "9670    1\n",
              "9671    0\n",
              "Name: index, Length: 9642, dtype: int64"
            ]
          },
          "metadata": {},
          "execution_count": 787
        }
      ]
    },
    {
      "cell_type": "code",
      "source": [
        "x_prob_final = lr.predict_proba(x_test_final)"
      ],
      "metadata": {
        "id": "sl8MUn1hft4I"
      },
      "execution_count": null,
      "outputs": []
    },
    {
      "cell_type": "code",
      "source": [
        "from sklearn.metrics import f1_score,recall_score\n",
        "print(metrics.classification_report(y_test_final,lrpredict_final))\n",
        "print(roc_auc_score(y_test_final, x_prob_final[:, 1]))\n",
        "print(accuracy_score(y_test_final,lrpredict_final))\n",
        "print(recall_score(y_test_final,lrpredict_final))\n"
      ],
      "metadata": {
        "colab": {
          "base_uri": "https://localhost:8080/"
        },
        "id": "JwIJfTQzfXnU",
        "outputId": "59685418-81b2-4f38-aa19-e454661658c8"
      },
      "execution_count": null,
      "outputs": [
        {
          "output_type": "stream",
          "name": "stdout",
          "text": [
            "              precision    recall  f1-score   support\n",
            "\n",
            "           0       0.57      0.60      0.59      4917\n",
            "           1       0.56      0.52      0.54      4725\n",
            "\n",
            "    accuracy                           0.56      9642\n",
            "   macro avg       0.56      0.56      0.56      9642\n",
            "weighted avg       0.56      0.56      0.56      9642\n",
            "\n",
            "0.5864049249284149\n",
            "0.5644057249533292\n",
            "0.5225396825396825\n"
          ]
        }
      ]
    },
    {
      "cell_type": "code",
      "source": [
        "lr = LogisticRegression(max_iter=2000)\n",
        "lr.fit(features, indexs)"
      ],
      "metadata": {
        "colab": {
          "base_uri": "https://localhost:8080/"
        },
        "id": "YLD5iUB6d047",
        "outputId": "eb80a474-fad6-40aa-dc98-d1f81d19b0bb"
      },
      "execution_count": null,
      "outputs": [
        {
          "output_type": "execute_result",
          "data": {
            "text/plain": [
              "LogisticRegression(max_iter=2000)"
            ]
          },
          "metadata": {},
          "execution_count": 790
        }
      ]
    },
    {
      "cell_type": "code",
      "source": [
        "predlr = lr.predict(x_test_final)"
      ],
      "metadata": {
        "id": "0n-KI1Zyd07D"
      },
      "execution_count": null,
      "outputs": []
    },
    {
      "cell_type": "code",
      "source": [
        "accuracy_score(y_test_final,predlr)"
      ],
      "metadata": {
        "colab": {
          "base_uri": "https://localhost:8080/"
        },
        "id": "YDRsjM5jd09B",
        "outputId": "8a3e7443-8513-4a68-b983-7aebc9497cfc"
      },
      "execution_count": null,
      "outputs": [
        {
          "output_type": "execute_result",
          "data": {
            "text/plain": [
              "0.566894835096453"
            ]
          },
          "metadata": {},
          "execution_count": 792
        }
      ]
    },
    {
      "cell_type": "code",
      "source": [
        "#sources:\n",
        "#https://betterprogramming.pub/using-emoji-to-convert-emojis-to-text-f1969352083c\n",
        "#https://www.analyticsvidhya.com/blog/2021/09/sentiment-classification-using-nlp-with-text-analytics/"
      ],
      "metadata": {
        "id": "jSich63Q4kHH"
      },
      "execution_count": null,
      "outputs": []
    },
    {
      "cell_type": "markdown",
      "source": [
        "AT the end i noticed overfitting on certain kinds of data, (Probably due to too much prepeocessing), is this kind of preprocessing redundant or does this have any methods that can make the accuracy for all values better.\n"
      ],
      "metadata": {
        "id": "6yan8r4s4DF4"
      }
    }
  ]
}